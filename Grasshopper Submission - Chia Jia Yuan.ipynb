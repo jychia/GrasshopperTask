{
 "cells": [
  {
   "cell_type": "markdown",
   "metadata": {},
   "source": [
    "# Submission for Grasshopper test - Chia Jia Yuan"
   ]
  },
  {
   "cell_type": "markdown",
   "metadata": {},
   "source": [
    "## Data Preprocessing"
   ]
  },
  {
   "cell_type": "markdown",
   "metadata": {},
   "source": [
    "Import required libraries"
   ]
  },
  {
   "cell_type": "code",
   "execution_count": 18,
   "metadata": {},
   "outputs": [],
   "source": [
    "import numpy as np\n",
    "import pandas as pd\n",
    "import matplotlib.pyplot as plt\n",
    "import seaborn as sns"
   ]
  },
  {
   "cell_type": "markdown",
   "metadata": {},
   "source": [
    "Import the dataset"
   ]
  },
  {
   "cell_type": "code",
   "execution_count": 19,
   "metadata": {},
   "outputs": [],
   "source": [
    "# Read the raw\n",
    "dataset = pd.read_csv('intern_task.csv', quoting = 3)"
   ]
  },
  {
   "cell_type": "markdown",
   "metadata": {},
   "source": [
    "Inspect data"
   ]
  },
  {
   "cell_type": "code",
   "execution_count": 4,
   "metadata": {},
   "outputs": [
    {
     "name": "stdout",
     "output_type": "stream",
     "text": [
      "['timestamp', 'bid_price', 'bid_qty', 'ask_price', 'ask_qty', 'trade_price', 'sum_trade_1s', 'bid_advance_time', 'ask_advance_time', 'last_trade_time', '_1s_side', '_3s_side', '_5s_side']\n",
      "                          timestamp  bid_price  bid_qty  ask_price  ask_qty  \\\n",
      "0  2018-01-31 23:45:11.445630+00:00    23270.0    110.0    23280.0     68.0   \n",
      "1  2018-01-31 23:45:11.446141+00:00    23270.0     10.0    23280.0     68.0   \n",
      "2  2018-01-31 23:45:11.446206+00:00    23270.0      8.0    23280.0     68.0   \n",
      "3  2018-01-31 23:45:11.446253+00:00    23270.0      3.0    23280.0     70.0   \n",
      "4  2018-01-31 23:45:11.446279+00:00    23270.0      1.0    23280.0     70.0   \n",
      "\n",
      "   trade_price  sum_trade_1s  bid_advance_time  ask_advance_time  \\\n",
      "0      23270.0         106.0          9.491206          7.492440   \n",
      "1      23270.0         107.0          9.491717          7.492951   \n",
      "2      23270.0         107.0          9.491782          7.493016   \n",
      "3      23270.0         107.0          9.491829          7.493063   \n",
      "4      23270.0         107.0          9.491855          7.493089   \n",
      "\n",
      "   last_trade_time  _1s_side  _3s_side  _5s_side  \n",
      "0         0.000078         1         1         1  \n",
      "1         0.000458         1         1         1  \n",
      "2         0.000523         1         1         1  \n",
      "3         0.000570         1         1         1  \n",
      "4         0.000596         0         0         0  \n",
      "           bid_price        bid_qty      ask_price        ask_qty  \\\n",
      "count  132194.000000  132194.000000  132194.000000  132194.000000   \n",
      "mean    23347.882355      74.513692   23358.179948      78.335219   \n",
      "std        63.271406      47.695180      63.268878      57.273377   \n",
      "min     23210.000000       1.000000   23220.000000       1.000000   \n",
      "25%     23280.000000      40.000000   23290.000000      34.000000   \n",
      "50%     23370.000000      73.000000   23380.000000      72.000000   \n",
      "75%     23400.000000     103.000000   23410.000000     108.000000   \n",
      "max     23480.000000     413.000000   23490.000000     393.000000   \n",
      "\n",
      "         trade_price  sum_trade_1s  bid_advance_time  ask_advance_time  \\\n",
      "count  132194.000000  66219.000000     132194.000000     132194.000000   \n",
      "mean    23351.504917     52.419230         36.786843         32.139533   \n",
      "std        63.538022     88.855531         83.306564         55.989865   \n",
      "min     23150.000000      1.000000          0.000020          0.000020   \n",
      "25%     23290.000000     10.000000          0.623887          0.607122   \n",
      "50%     23370.000000     30.000000         10.020616          9.921660   \n",
      "75%     23400.000000     63.000000         39.119253         38.641099   \n",
      "max     23490.000000    784.000000        848.495264        530.448032   \n",
      "\n",
      "       last_trade_time       _1s_side       _3s_side       _5s_side  \n",
      "count    122603.000000  132194.000000  132194.000000  132194.000000  \n",
      "mean          3.910395       0.344622       0.479356       0.561705  \n",
      "std           6.278957       0.679327       0.760376       0.795960  \n",
      "min           0.000000       0.000000       0.000000       0.000000  \n",
      "25%           0.007720       0.000000       0.000000       0.000000  \n",
      "50%           0.607249       0.000000       0.000000       0.000000  \n",
      "75%           5.347661       0.000000       1.000000       1.000000  \n",
      "max          42.810213       2.000000       2.000000       2.000000  \n",
      "132194\n"
     ]
    }
   ],
   "source": [
    "print(list(dataset))\n",
    "print(dataset.head())\n",
    "print(dataset.describe())\n",
    "print(dataset.shape[0])"
   ]
  },
  {
   "cell_type": "markdown",
   "metadata": {},
   "source": [
    "Check null values"
   ]
  },
  {
   "cell_type": "code",
   "execution_count": 4,
   "metadata": {},
   "outputs": [
    {
     "data": {
      "text/plain": [
       "True"
      ]
     },
     "execution_count": 4,
     "metadata": {},
     "output_type": "execute_result"
    }
   ],
   "source": [
    "dataset.isnull().values.any()"
   ]
  },
  {
   "cell_type": "code",
   "execution_count": 5,
   "metadata": {},
   "outputs": [
    {
     "data": {
      "text/plain": [
       "timestamp               0\n",
       "bid_price               0\n",
       "bid_qty                 0\n",
       "ask_price               0\n",
       "ask_qty                 0\n",
       "trade_price             0\n",
       "sum_trade_1s        65975\n",
       "bid_advance_time        0\n",
       "ask_advance_time        0\n",
       "last_trade_time      9591\n",
       "_1s_side                0\n",
       "_3s_side                0\n",
       "_5s_side                0\n",
       "dtype: int64"
      ]
     },
     "execution_count": 5,
     "metadata": {},
     "output_type": "execute_result"
    }
   ],
   "source": [
    "dataset.isnull().sum()"
   ]
  },
  {
   "cell_type": "code",
   "execution_count": 6,
   "metadata": {},
   "outputs": [
    {
     "name": "stdout",
     "output_type": "stream",
     "text": [
      "                           timestamp  bid_price  bid_qty  ask_price  ask_qty  \\\n",
      "56  2018-01-31 23:45:12.548528+00:00    23270.0     16.0    23280.0     87.0   \n",
      "57  2018-01-31 23:45:12.585329+00:00    23270.0     15.0    23280.0     87.0   \n",
      "58  2018-01-31 23:45:12.585636+00:00    23270.0     15.0    23280.0     93.0   \n",
      "59  2018-01-31 23:45:12.585686+00:00    23270.0     15.0    23280.0     94.0   \n",
      "60  2018-01-31 23:45:12.656053+00:00    23270.0     15.0    23280.0     95.0   \n",
      "\n",
      "    trade_price  sum_trade_1s  bid_advance_time  ask_advance_time  \\\n",
      "56      23270.0           NaN          0.902111          1.100741   \n",
      "57      23270.0           NaN          0.938912          1.137542   \n",
      "58      23270.0           NaN          0.939219          1.137849   \n",
      "59      23270.0           NaN          0.939269          1.137899   \n",
      "60      23270.0           NaN          1.009636          1.208266   \n",
      "\n",
      "    last_trade_time  _1s_side  _3s_side  _5s_side  \n",
      "56         1.002324         0         0         0  \n",
      "57         1.039125         0         0         0  \n",
      "58         1.039432         0         0         0  \n",
      "59         1.039482         0         0         0  \n",
      "60         1.109849         0         0         0  \n"
     ]
    }
   ],
   "source": [
    "print(dataset[dataset['sum_trade_1s'].isnull().values].head())"
   ]
  },
  {
   "cell_type": "code",
   "execution_count": 7,
   "metadata": {},
   "outputs": [
    {
     "name": "stdout",
     "output_type": "stream",
     "text": [
      "1.000017\n"
     ]
    }
   ],
   "source": [
    "print(dataset[dataset['sum_trade_1s'].isnull().values]['last_trade_time'].min())"
   ]
  },
  {
   "cell_type": "markdown",
   "metadata": {},
   "source": [
    "For the null values in sum_trade_1s, it can be found out that for all cases of NULL in sum_trade_1s, the last trade time is always larger than 1s. Other than that, the min value recorded in that column is 1. From that, it can be safely assume that all NULL in sum_trade_1s actually represents \"0 trade done in last 1 second\", and can be substitute with 0."
   ]
  },
  {
   "cell_type": "code",
   "execution_count": 5,
   "metadata": {},
   "outputs": [
    {
     "data": {
      "text/plain": [
       "timestamp              0\n",
       "bid_price              0\n",
       "bid_qty                0\n",
       "ask_price              0\n",
       "ask_qty                0\n",
       "trade_price            0\n",
       "sum_trade_1s           0\n",
       "bid_advance_time       0\n",
       "ask_advance_time       0\n",
       "last_trade_time     9591\n",
       "_1s_side               0\n",
       "_3s_side               0\n",
       "_5s_side               0\n",
       "dtype: int64"
      ]
     },
     "execution_count": 5,
     "metadata": {},
     "output_type": "execute_result"
    }
   ],
   "source": [
    "dataset[\"sum_trade_1s\"].fillna(0, inplace = True)\n",
    "dataset.isnull().sum()"
   ]
  },
  {
   "cell_type": "markdown",
   "metadata": {},
   "source": [
    "For the last_trade_time null values, as the min of the data is 0 (implies 0 can be captured properly), and the total of null values in last_trade_time is qutie a small number relative to the total number of data, hence those null data will be remove from dataset"
   ]
  },
  {
   "cell_type": "code",
   "execution_count": 6,
   "metadata": {},
   "outputs": [
    {
     "name": "stdout",
     "output_type": "stream",
     "text": [
      "122603\n"
     ]
    },
    {
     "data": {
      "text/plain": [
       "False"
      ]
     },
     "execution_count": 6,
     "metadata": {},
     "output_type": "execute_result"
    }
   ],
   "source": [
    "dataset = dataset.dropna(subset=['last_trade_time'])\n",
    "print(dataset.shape[0])\n",
    "dataset.isnull().values.any()"
   ]
  },
  {
   "cell_type": "markdown",
   "metadata": {},
   "source": [
    "Process the timestamp string into a normalized value using pandas.to_datetime which will convert the string to pandas.Timestamp objects which can be represented with nanoseconds since epoch."
   ]
  },
  {
   "cell_type": "code",
   "execution_count": 7,
   "metadata": {},
   "outputs": [
    {
     "name": "stdout",
     "output_type": "stream",
     "text": [
      "['timestamp', 'datetime', 'bid_price', 'bid_qty', 'ask_price', 'ask_qty', 'trade_price', 'sum_trade_1s', 'bid_advance_time', 'ask_advance_time', 'last_trade_time', '_1s_side', '_3s_side', '_5s_side']\n",
      "0   2018-01-31 23:45:11.445630\n",
      "1   2018-01-31 23:45:11.446141\n",
      "2   2018-01-31 23:45:11.446206\n",
      "3   2018-01-31 23:45:11.446253\n",
      "4   2018-01-31 23:45:11.446279\n",
      "Name: datetime, dtype: datetime64[ns]\n",
      "1517442311445630000\n"
     ]
    }
   ],
   "source": [
    "dataset.insert(1, 'datetime', pd.to_datetime(dataset[\"timestamp\"]))\n",
    "print(list(dataset))\n",
    "print(dataset['datetime'].head())\n",
    "print(dataset['datetime'][0].value)"
   ]
  },
  {
   "cell_type": "markdown",
   "metadata": {},
   "source": [
    "Convert the Timestamp objects into microseconds and save them into a column in the dataset"
   ]
  },
  {
   "cell_type": "code",
   "execution_count": 8,
   "metadata": {},
   "outputs": [
    {
     "name": "stdout",
     "output_type": "stream",
     "text": [
      "['timestamp', 'datetime', 'microseconds', 'bid_price', 'bid_qty', 'ask_price', 'ask_qty', 'trade_price', 'sum_trade_1s', 'bid_advance_time', 'ask_advance_time', 'last_trade_time', '_1s_side', '_3s_side', '_5s_side']\n",
      "1517442311445630000\n"
     ]
    }
   ],
   "source": [
    "microseconds = []\n",
    "for index, row in dataset.iterrows():\n",
    "    microseconds.append(row['datetime'].value / 1000)\n",
    "dataset.insert(2, 'microseconds', microseconds)\n",
    "print(list(dataset))\n",
    "print(dataset['datetime'][0].value)"
   ]
  },
  {
   "cell_type": "markdown",
   "metadata": {},
   "source": [
    "Add price spread (ask price - bid price)"
   ]
  },
  {
   "cell_type": "code",
   "execution_count": 9,
   "metadata": {},
   "outputs": [
    {
     "name": "stdout",
     "output_type": "stream",
     "text": [
      "['timestamp', 'datetime', 'microseconds', 'bid_price', 'bid_qty', 'ask_price', 'ask_qty', 'spread', 'trade_price', 'sum_trade_1s', 'bid_advance_time', 'ask_advance_time', 'last_trade_time', '_1s_side', '_3s_side', '_5s_side']\n",
      "1517442311445630000\n"
     ]
    }
   ],
   "source": [
    "dataset.insert(7, 'spread', dataset[\"ask_price\"] - dataset[\"bid_price\"])\n",
    "print(list(dataset))\n",
    "print(dataset['datetime'][0].value)"
   ]
  },
  {
   "cell_type": "markdown",
   "metadata": {},
   "source": [
    "Visualize the ask price, bid price and trade price over time"
   ]
  },
  {
   "cell_type": "code",
   "execution_count": 13,
   "metadata": {},
   "outputs": [
    {
     "data": {
      "image/png": "[encoded data removed]",
      "text/plain": [
       "<Figure size 1080x1080 with 1 Axes>"
      ]
     },
     "metadata": {},
     "output_type": "display_data"
    }
   ],
   "source": [
    "plt.figure(figsize=(15, 15))\n",
    "plt.plot(dataset[\"microseconds\"].values, dataset[\"bid_price\"].values, color = 'red', label = 'Bid Price')\n",
    "plt.plot(dataset[\"microseconds\"].values, dataset[\"ask_price\"].values, color = 'blue', label = 'Ask Price')\n",
    "plt.plot(dataset[\"microseconds\"].values, dataset[\"trade_price\"].values, color = 'green', label = 'Trade Price')\n",
    "plt.title('Bid Price, Ask Price, Trade Price over time')\n",
    "plt.xlabel('Normalized Microseconds')\n",
    "plt.ylabel('Price')\n",
    "plt.legend()\n",
    "plt.show()"
   ]
  },
  {
   "cell_type": "markdown",
   "metadata": {},
   "source": [
    "Visualize the ask quantity, bid quantity, sum trade in last second over time"
   ]
  },
  {
   "cell_type": "code",
   "execution_count": 14,
   "metadata": {},
   "outputs": [
    {
     "data": {
      "image/png": "[encoded data removed]",
      "text/plain": [
       "<Figure size 1080x1080 with 1 Axes>"
      ]
     },
     "metadata": {},
     "output_type": "display_data"
    }
   ],
   "source": [
    "plt.figure(figsize=(15, 15))\n",
    "plt.plot(dataset[\"microseconds\"].values, dataset[\"bid_qty\"].values, color = 'red', label = 'Bid Quantity')\n",
    "plt.plot(dataset[\"microseconds\"].values, dataset[\"ask_qty\"].values, color = 'blue', label = 'Ask Quantity')\n",
    "plt.title('Bid Quantity, Ask Quantity over time')\n",
    "plt.xlabel('Normalized Microseconds')\n",
    "plt.ylabel('Quantity')\n",
    "plt.legend()\n",
    "plt.show()"
   ]
  },
  {
   "cell_type": "markdown",
   "metadata": {},
   "source": [
    "Check the feature correlation"
   ]
  },
  {
   "cell_type": "code",
   "execution_count": 15,
   "metadata": {},
   "outputs": [
    {
     "data": {
      "image/png": "[encoded data removed]",
      "text/plain": [
       "<Figure size 1080x1080 with 2 Axes>"
      ]
     },
     "metadata": {},
     "output_type": "display_data"
    }
   ],
   "source": [
    "plt.figure(figsize=(15, 15))\n",
    "cor = dataset.corr(method='pearson')\n",
    "sns.heatmap(cor, annot=True, cmap=plt.cm.Reds)\n",
    "plt.show()"
   ]
  },
  {
   "cell_type": "markdown",
   "metadata": {},
   "source": [
    "## Training preparation"
   ]
  },
  {
   "cell_type": "markdown",
   "metadata": {},
   "source": [
    "Construct the features X and labels Y. \n",
    "\n",
    "X includes microseconds, bid_price, bid_qty, ask_price, ask_qty, spread, trade_price, sum_trade_1s, bid_advance_time, ask_advance_time, last_trade_time.\n",
    "\n",
    "Y includes _1s_side, _3s_side, _5s_side"
   ]
  },
  {
   "cell_type": "code",
   "execution_count": 10,
   "metadata": {},
   "outputs": [],
   "source": [
    "X = dataset.iloc[:, 2:-3].values\n",
    "y = dataset.iloc[:, -3:].values"
   ]
  },
  {
   "cell_type": "markdown",
   "metadata": {},
   "source": [
    "Split the data into training, validation and testing datasets. 80% training dataset, 10% validation dataset, 10% testing dataset"
   ]
  },
  {
   "cell_type": "code",
   "execution_count": 11,
   "metadata": {},
   "outputs": [],
   "source": [
    "from sklearn.model_selection import train_test_split\n",
    "X_train, X_test, y_train, y_test = train_test_split(X, y, test_size = 0.1, random_state = 0)\n",
    "X_train, X_val, y_train, y_val = train_test_split(X_train, y_train, test_size = 0.1, random_state = 0)"
   ]
  },
  {
   "cell_type": "markdown",
   "metadata": {},
   "source": [
    "As X consist of vastly different values, scaling is required for X"
   ]
  },
  {
   "cell_type": "code",
   "execution_count": 12,
   "metadata": {},
   "outputs": [],
   "source": [
    "from sklearn.preprocessing import StandardScaler\n",
    "sc_X = StandardScaler()\n",
    "X_train = sc_X.fit_transform(X_train)\n",
    "X_val = sc_X.transform(X_val)\n",
    "X_test = sc_X.transform(X_test)"
   ]
  },
  {
   "cell_type": "markdown",
   "metadata": {},
   "source": [
    "## Model training and evaluation"
   ]
  },
  {
   "cell_type": "markdown",
   "metadata": {},
   "source": [
    "### Logistic Regression Classifier "
   ]
  },
  {
   "cell_type": "markdown",
   "metadata": {},
   "source": [
    "As Logistic Regression is not inherently multi-output, we will split the 1 second, 3 second and 5 second event prediction into 3 different classifiers to train and evaluate."
   ]
  },
  {
   "cell_type": "markdown",
   "metadata": {},
   "source": [
    "We will first test the One-Vs-Rest option"
   ]
  },
  {
   "cell_type": "code",
   "execution_count": 22,
   "metadata": {},
   "outputs": [],
   "source": [
    "from sklearn.linear_model import LogisticRegression\n",
    "from sklearn.metrics import confusion_matrix, accuracy_score, f1_score"
   ]
  },
  {
   "cell_type": "code",
   "execution_count": 19,
   "metadata": {},
   "outputs": [
    {
     "name": "stdout",
     "output_type": "stream",
     "text": [
      "Logistic Regression OVR (Training): 1s prediction: acc= 0.777558480268259 , f1= 0.7035238947626498\n",
      "Logistic Regression OVR (Training): 3s prediction: acc= 0.733795200741136 , f1= 0.7048611788718326\n",
      "Logistic Regression OVR (Training): 5s prediction: acc= 0.7160925211717201 , f1= 0.7040979561465449\n",
      "Logistic Regression OVR: 1s prediction: acc= 0.7777979157227005 , f1= 0.702913035924718\n",
      "Logistic Regression OVR: 3s prediction: acc= 0.7323969188944268 , f1= 0.7030457462133896\n",
      "Logistic Regression OVR: 5s prediction: acc= 0.7178069777979157 , f1= 0.7060502291688441\n"
     ]
    }
   ],
   "source": [
    "# Training the Logistic Regression model\n",
    "logistic1s = LogisticRegression(random_state = 0, multi_class = 'ovr')\n",
    "logistic1s.fit(X_train, y_train[:,0])\n",
    "\n",
    "logistic3s = LogisticRegression(random_state = 0, multi_class = 'ovr')\n",
    "logistic3s.fit(X_train, y_train[:,1])\n",
    "\n",
    "logistic5s = LogisticRegression(random_state = 0, multi_class = 'ovr')\n",
    "logistic5s.fit(X_train, y_train[:,2])\n",
    "\n",
    "# Predict the training dataset so that we can compare against validation dataset results\n",
    "# To see if there is any overfitting\n",
    "y_pred_train_1s = logistic1s.predict(X_train)\n",
    "y_pred_train_3s = logistic3s.predict(X_train)\n",
    "y_pred_train_5s = logistic5s.predict(X_train)\n",
    "\n",
    "y_pred_1s = logistic1s.predict(X_val)\n",
    "y_pred_3s = logistic3s.predict(X_val)\n",
    "y_pred_5s = logistic5s.predict(X_val)\n",
    "\n",
    "# Display results\n",
    "accuracy_1s = accuracy_score(y_train[:,0], y_pred_train_1s)\n",
    "f1_1s = f1_score(y_train[:,0], y_pred_train_1s, average='weighted')\n",
    "print(\"Logistic Regression OVR (Training): 1s prediction: acc=\", accuracy_1s, \", f1=\", f1_1s)\n",
    "\n",
    "accuracy_3s = accuracy_score(y_train[:,1], y_pred_train_3s)\n",
    "f1_3s = f1_score(y_train[:,1], y_pred_train_3s, average='weighted')\n",
    "print(\"Logistic Regression OVR (Training): 3s prediction: acc=\", accuracy_3s, \", f1=\", f1_3s)\n",
    "\n",
    "accuracy_5s = accuracy_score(y_train[:,2], y_pred_train_5s)\n",
    "f1_5s = f1_score(y_train[:,2], y_pred_train_5s, average='weighted')\n",
    "print(\"Logistic Regression OVR (Training): 5s prediction: acc=\", accuracy_5s, \", f1=\", f1_5s)\n",
    "\n",
    "accuracy_1s = accuracy_score(y_val[:,0], y_pred_1s)\n",
    "f1_1s = f1_score(y_val[:,0], y_pred_1s, average='weighted')\n",
    "print(\"Logistic Regression OVR: 1s prediction: acc=\", accuracy_1s, \", f1=\", f1_1s)\n",
    "\n",
    "accuracy_3s = accuracy_score(y_val[:,1], y_pred_3s)\n",
    "f1_3s = f1_score(y_val[:,1], y_pred_3s, average='weighted')\n",
    "print(\"Logistic Regression OVR: 3s prediction: acc=\", accuracy_3s, \", f1=\", f1_3s)\n",
    "\n",
    "accuracy_5s = accuracy_score(y_val[:,2], y_pred_5s)\n",
    "f1_5s = f1_score(y_val[:,2], y_pred_5s, average='weighted')\n",
    "print(\"Logistic Regression OVR: 5s prediction: acc=\", accuracy_5s, \", f1=\", f1_5s)"
   ]
  },
  {
   "cell_type": "markdown",
   "metadata": {},
   "source": [
    "We now test the multinomial option"
   ]
  },
  {
   "cell_type": "code",
   "execution_count": 20,
   "metadata": {},
   "outputs": [
    {
     "name": "stdout",
     "output_type": "stream",
     "text": [
      "Logistic Regression Multinomial (Training): 1s prediction: acc= 0.7850705388341205 , f1= 0.742937186652454\n",
      "Logistic Regression Multinomial (Training): 3s prediction: acc= 0.7426868196602455 , f1= 0.7279690875355949\n",
      "Logistic Regression Multinomial (Training): 5s prediction: acc= 0.7165758707845369 , f1= 0.7085453442594375\n",
      "Logistic Regression Multinomial: 1s prediction: acc= 0.7864068871771636 , f1= 0.7431059555272412\n",
      "Logistic Regression Multinomial: 3s prediction: acc= 0.7436338921613049 , f1= 0.728538147341308\n",
      "Logistic Regression Multinomial: 5s prediction: acc= 0.7179882193022202 , f1= 0.7104111314312003\n"
     ]
    }
   ],
   "source": [
    "logistic1s = LogisticRegression(random_state = 0, solver = 'lbfgs', multi_class = 'multinomial')\n",
    "logistic1s.fit(X_train, y_train[:,0])\n",
    "\n",
    "logistic3s = LogisticRegression(random_state = 0, solver = 'lbfgs', multi_class = 'multinomial')\n",
    "logistic3s.fit(X_train, y_train[:,1])\n",
    "\n",
    "logistic5s = LogisticRegression(random_state = 0, solver = 'lbfgs', multi_class = 'multinomial')\n",
    "logistic5s.fit(X_train, y_train[:,2])\n",
    "\n",
    "y_pred_train_1s = logistic1s.predict(X_train)\n",
    "y_pred_train_3s = logistic3s.predict(X_train)\n",
    "y_pred_train_5s = logistic5s.predict(X_train)\n",
    "\n",
    "y_pred_1s = logistic1s.predict(X_val)\n",
    "y_pred_3s = logistic3s.predict(X_val)\n",
    "y_pred_5s = logistic5s.predict(X_val)\n",
    "\n",
    "accuracy_1s = accuracy_score(y_train[:,0], y_pred_train_1s)\n",
    "f1_1s = f1_score(y_train[:,0], y_pred_train_1s, average='weighted')\n",
    "print(\"Logistic Regression Multinomial (Training): 1s prediction: acc=\", accuracy_1s, \", f1=\", f1_1s)\n",
    "\n",
    "accuracy_3s = accuracy_score(y_train[:,1], y_pred_train_3s)\n",
    "f1_3s = f1_score(y_train[:,1], y_pred_train_3s, average='weighted')\n",
    "print(\"Logistic Regression Multinomial (Training): 3s prediction: acc=\", accuracy_3s, \", f1=\", f1_3s)\n",
    "\n",
    "accuracy_5s = accuracy_score(y_train[:,2], y_pred_train_5s)\n",
    "f1_5s = f1_score(y_train[:,2], y_pred_train_5s, average='weighted')\n",
    "print(\"Logistic Regression Multinomial (Training): 5s prediction: acc=\", accuracy_5s, \", f1=\", f1_5s)\n",
    "\n",
    "accuracy_1s = accuracy_score(y_val[:,0], y_pred_1s)\n",
    "f1_1s = f1_score(y_val[:,0], y_pred_1s, average='weighted')\n",
    "print(\"Logistic Regression Multinomial: 1s prediction: acc=\", accuracy_1s, \", f1=\", f1_1s)\n",
    "\n",
    "accuracy_3s = accuracy_score(y_val[:,1], y_pred_3s)\n",
    "f1_3s = f1_score(y_val[:,1], y_pred_3s, average='weighted')\n",
    "print(\"Logistic Regression Multinomial: 3s prediction: acc=\", accuracy_3s, \", f1=\", f1_3s)\n",
    "\n",
    "accuracy_5s = accuracy_score(y_val[:,2], y_pred_5s)\n",
    "f1_5s = f1_score(y_val[:,2], y_pred_5s, average='weighted')\n",
    "print(\"Logistic Regression Multinomial: 5s prediction: acc=\", accuracy_5s, \", f1=\", f1_5s)"
   ]
  },
  {
   "cell_type": "markdown",
   "metadata": {},
   "source": [
    "Find the best regularization"
   ]
  },
  {
   "cell_type": "code",
   "execution_count": 21,
   "metadata": {},
   "outputs": [
    {
     "name": "stdout",
     "output_type": "stream",
     "text": [
      "Logistic Regression Multinomial (Training): 1s prediction: C= 0.001 , acc= 0.7803478103255561 , f1= 0.7160545199524038\n",
      "Logistic Regression Multinomial (Training): 3s prediction: C= 0.001 , acc= 0.733795200741136 , f1= 0.708093823402607\n",
      "Logistic Regression Multinomial (Training): 5s prediction: C= 0.001 , acc= 0.7120948170823809 , f1= 0.6995868500166076\n",
      "Logistic Regression Multinomial: 1s prediction: C= 0.001 , acc= 0.7807884005437246 , f1= 0.7153573270655654\n",
      "Logistic Regression Multinomial: 3s prediction: C= 0.001 , acc= 0.73656547349343 , f1= 0.7102034745284282\n",
      "Logistic Regression Multinomial: 5s prediction: C= 0.001 , acc= 0.7170820117806977 , f1= 0.7048432441948309\n",
      "Logistic Regression Multinomial (Training): 1s prediction: C= 0.01 , acc= 0.7845569798705025 , f1= 0.7396239092598671\n",
      "Logistic Regression Multinomial (Training): 3s prediction: C= 0.01 , acc= 0.7416395621658091 , f1= 0.7257953995428619\n",
      "Logistic Regression Multinomial (Training): 5s prediction: C= 0.01 , acc= 0.7154984039392993 , f1= 0.7068122314760402\n",
      "Logistic Regression Multinomial: 1s prediction: C= 0.01 , acc= 0.7860444041685546 , f1= 0.7395583780477629\n",
      "Logistic Regression Multinomial: 3s prediction: C= 0.01 , acc= 0.7437245129134572 , f1= 0.7276338712981772\n",
      "Logistic Regression Multinomial: 5s prediction: C= 0.01 , acc= 0.7183507023108292 , f1= 0.7101448488271017\n",
      "Logistic Regression Multinomial (Training): 1s prediction: C= 0.1 , acc= 0.7850906784013212 , f1= 0.742841810558132\n",
      "Logistic Regression Multinomial (Training): 3s prediction: C= 0.1 , acc= 0.7426062613914427 , f1= 0.7277467422890375\n",
      "Logistic Regression Multinomial (Training): 5s prediction: C= 0.1 , acc= 0.716263707492926 , f1= 0.7080901471310471\n",
      "Logistic Regression Multinomial: 1s prediction: C= 0.1 , acc= 0.7863162664250113 , f1= 0.7426538957481779\n",
      "Logistic Regression Multinomial: 3s prediction: C= 0.1 , acc= 0.7440869959220662 , f1= 0.7289564259482327\n",
      "Logistic Regression Multinomial: 5s prediction: C= 0.1 , acc= 0.717897598550068 , f1= 0.710247264267809\n",
      "Logistic Regression Multinomial (Training): 1s prediction: C= 1 , acc= 0.7850705388341205 , f1= 0.742937186652454\n",
      "Logistic Regression Multinomial (Training): 3s prediction: C= 1 , acc= 0.7426868196602455 , f1= 0.7279690875355949\n",
      "Logistic Regression Multinomial (Training): 5s prediction: C= 1 , acc= 0.7165758707845369 , f1= 0.7085453442594375\n",
      "Logistic Regression Multinomial: 1s prediction: C= 1 , acc= 0.7864068871771636 , f1= 0.7431059555272412\n",
      "Logistic Regression Multinomial: 3s prediction: C= 1 , acc= 0.7436338921613049 , f1= 0.728538147341308\n",
      "Logistic Regression Multinomial: 5s prediction: C= 1 , acc= 0.7179882193022202 , f1= 0.7104111314312003\n",
      "Logistic Regression Multinomial (Training): 1s prediction: C= 10 , acc= 0.7850503992669198 , f1= 0.7429114092848714\n",
      "Logistic Regression Multinomial (Training): 3s prediction: C= 10 , acc= 0.7426868196602455 , f1= 0.7279546558665982\n",
      "Logistic Regression Multinomial (Training): 5s prediction: C= 10 , acc= 0.7165355916501355 , f1= 0.7085130966414374\n",
      "Logistic Regression Multinomial: 1s prediction: C= 10 , acc= 0.7863162664250113 , f1= 0.7430217740371008\n",
      "Logistic Regression Multinomial: 3s prediction: C= 10 , acc= 0.7437245129134572 , f1= 0.7286164024759891\n",
      "Logistic Regression Multinomial: 5s prediction: C= 10 , acc= 0.7183507023108292 , f1= 0.710810001562479\n",
      "Logistic Regression Multinomial (Training): 1s prediction: C= 100 , acc= 0.7850705388341205 , f1= 0.7429291186787543\n",
      "Logistic Regression Multinomial (Training): 3s prediction: C= 100 , acc= 0.7426767498766451 , f1= 0.7279413000311575\n",
      "Logistic Regression Multinomial (Training): 5s prediction: C= 100 , acc= 0.7164852427321337 , f1= 0.7084674830928446\n",
      "Logistic Regression Multinomial: 1s prediction: C= 100 , acc= 0.7863162664250113 , f1= 0.7430217740371008\n",
      "Logistic Regression Multinomial: 3s prediction: C= 100 , acc= 0.7437245129134572 , f1= 0.7286164024759891\n",
      "Logistic Regression Multinomial: 5s prediction: C= 100 , acc= 0.7183507023108292 , f1= 0.710810001562479\n"
     ]
    }
   ],
   "source": [
    "C_param_range = [0.001,0.01,0.1,1,10,100]\n",
    "Accuracy = []\n",
    "for i in C_param_range:\n",
    "    \n",
    "    logistic1s = LogisticRegression(random_state = 0, solver = 'lbfgs', multi_class = 'multinomial', C = i)\n",
    "    logistic1s.fit(X_train, y_train[:,0])\n",
    "\n",
    "    logistic3s = LogisticRegression(random_state = 0, solver = 'lbfgs', multi_class = 'multinomial', C = i)\n",
    "    logistic3s.fit(X_train, y_train[:,1])\n",
    "\n",
    "    logistic5s = LogisticRegression(random_state = 0, solver = 'lbfgs', multi_class = 'multinomial', C = i)\n",
    "    logistic5s.fit(X_train, y_train[:,2])\n",
    "    \n",
    "    y_pred_train_1s = logistic1s.predict(X_train)\n",
    "    y_pred_train_3s = logistic3s.predict(X_train)\n",
    "    y_pred_train_5s = logistic5s.predict(X_train)\n",
    "\n",
    "    y_pred_1s = logistic1s.predict(X_val)\n",
    "    y_pred_3s = logistic3s.predict(X_val)\n",
    "    y_pred_5s = logistic5s.predict(X_val)\n",
    "    \n",
    "    accuracy_1s = accuracy_score(y_train[:,0], y_pred_train_1s)\n",
    "    f1_1s = f1_score(y_train[:,0], y_pred_train_1s, average='weighted')\n",
    "    print(\"Logistic Regression Multinomial (Training): 1s prediction: C=\", i, \", acc=\", accuracy_1s, \", f1=\", f1_1s)\n",
    "\n",
    "    accuracy_3s = accuracy_score(y_train[:,1], y_pred_train_3s)\n",
    "    f1_3s = f1_score(y_train[:,1], y_pred_train_3s, average='weighted')\n",
    "    print(\"Logistic Regression Multinomial (Training): 3s prediction: C=\", i, \", acc=\", accuracy_3s, \", f1=\", f1_3s)\n",
    "\n",
    "    accuracy_5s = accuracy_score(y_train[:,2], y_pred_train_5s)\n",
    "    f1_5s = f1_score(y_train[:,2], y_pred_train_5s, average='weighted')\n",
    "    print(\"Logistic Regression Multinomial (Training): 5s prediction: C=\", i, \", acc=\", accuracy_5s, \", f1=\", f1_5s)\n",
    "\n",
    "    accuracy_1s = accuracy_score(y_val[:,0], y_pred_1s)\n",
    "    f1_1s = f1_score(y_val[:,0], y_pred_1s, average='weighted')\n",
    "    print(\"Logistic Regression Multinomial: 1s prediction: C=\", i, \", acc=\", accuracy_1s, \", f1=\", f1_1s)\n",
    "    \n",
    "    accuracy_3s = accuracy_score(y_val[:,1], y_pred_3s)\n",
    "    f1_3s = f1_score(y_val[:,1], y_pred_3s, average='weighted')\n",
    "    print(\"Logistic Regression Multinomial: 3s prediction: C=\", i, \", acc=\", accuracy_3s, \", f1=\", f1_3s)\n",
    "    \n",
    "    accuracy_5s = accuracy_score(y_val[:,2], y_pred_5s)\n",
    "    f1_5s = f1_score(y_val[:,2], y_pred_5s, average='weighted')\n",
    "    print(\"Logistic Regression Multinomial: 5s prediction: C=\", i, \", acc=\", accuracy_5s, \", f1=\", f1_5s)"
   ]
  },
  {
   "cell_type": "markdown",
   "metadata": {},
   "source": [
    "From here we can see C = 1 performs the best out of all."
   ]
  },
  {
   "cell_type": "markdown",
   "metadata": {},
   "source": [
    "We now get the final accuracy and F1 score when run on test dataset using the best parameters from above"
   ]
  },
  {
   "cell_type": "code",
   "execution_count": 35,
   "metadata": {},
   "outputs": [
    {
     "name": "stdout",
     "output_type": "stream",
     "text": [
      "Logistic Regression: 1s prediction: acc= 0.7843569040045674 , f1= 0.7408521092369597\n",
      "Logistic Regression: 3s prediction: acc= 0.7387651904412365 , f1= 0.7244844717293233\n",
      "Logistic Regression: 5s prediction: acc= 0.7169888263600033 , f1= 0.7093796423160251\n"
     ]
    },
    {
     "data": {
      "text/plain": [
       "['LogisticRegression5s.pkl']"
      ]
     },
     "execution_count": 35,
     "metadata": {},
     "output_type": "execute_result"
    }
   ],
   "source": [
    "logistic1s = LogisticRegression(random_state = 0, solver = 'lbfgs', multi_class = 'multinomial', C = 1)\n",
    "logistic1s.fit(X_train, y_train[:,0])\n",
    "\n",
    "logistic3s = LogisticRegression(random_state = 0, solver = 'lbfgs', multi_class = 'multinomial', C = 1)\n",
    "logistic3s.fit(X_train, y_train[:,1])\n",
    "\n",
    "logistic5s = LogisticRegression(random_state = 0, solver = 'lbfgs', multi_class = 'multinomial', C = 1)\n",
    "logistic5s.fit(X_train, y_train[:,2])\n",
    "\n",
    "y_pred_1s = logistic1s.predict(X_test)\n",
    "y_pred_3s = logistic3s.predict(X_test)\n",
    "y_pred_5s = logistic5s.predict(X_test)\n",
    "\n",
    "accuracy_1s = accuracy_score(y_test[:,0], y_pred_1s)\n",
    "f1_1s = f1_score(y_test[:,0], y_pred_1s, average='weighted')\n",
    "print(\"Logistic Regression: 1s prediction: acc=\", accuracy_1s, \", f1=\", f1_1s)\n",
    "\n",
    "accuracy_3s = accuracy_score(y_test[:,1], y_pred_3s)\n",
    "f1_3s = f1_score(y_test[:,1], y_pred_3s, average='weighted')\n",
    "print(\"Logistic Regression: 3s prediction: acc=\", accuracy_3s, \", f1=\", f1_3s)\n",
    "\n",
    "accuracy_5s = accuracy_score(y_test[:,2], y_pred_5s)\n",
    "f1_5s = f1_score(y_test[:,2], y_pred_5s, average='weighted')\n",
    "print(\"Logistic Regression: 5s prediction: acc=\", accuracy_5s, \", f1=\", f1_5s)\n",
    "\n",
    "# Save the final Logistic Regression model for future use\n",
    "from sklearn.externals import joblib\n",
    "joblib.dump(logistic1s, 'LogisticRegression1s.pkl') \n",
    "joblib.dump(logistic1s, 'LogisticRegression3s.pkl')\n",
    "joblib.dump(logistic1s, 'LogisticRegression5s.pkl')"
   ]
  },
  {
   "cell_type": "markdown",
   "metadata": {},
   "source": [
    "### Random Forest Classifier "
   ]
  },
  {
   "cell_type": "markdown",
   "metadata": {},
   "source": [
    "Here we test the random forest classifier with some reasonable starting parameters. As random forest classifier is inherently multi-class multi-output, we do not need to split the classifier."
   ]
  },
  {
   "cell_type": "code",
   "execution_count": 24,
   "metadata": {},
   "outputs": [],
   "source": [
    "from sklearn.ensemble import RandomForestClassifier"
   ]
  },
  {
   "cell_type": "code",
   "execution_count": 23,
   "metadata": {},
   "outputs": [
    {
     "name": "stdout",
     "output_type": "stream",
     "text": [
      "Random Forest (Training): 1s prediction: acc= 1.0 , f1= 1.0\n",
      "Random Forest (Training): 3s prediction: acc= 0.9999899302163997 , f1= 0.9999899303451976\n",
      "Random Forest (Training): 5s prediction: acc= 0.9999899302163997 , f1= 0.9999899303197498\n",
      "Random Forest: 1s prediction: acc= 0.9600362483008609 , f1= 0.9600658309539495\n",
      "Random Forest: 3s prediction: acc= 0.9579519710013593 , f1= 0.9579827952906919\n",
      "Random Forest: 5s prediction: acc= 0.9594019030357952 , f1= 0.9594538303347476\n"
     ]
    }
   ],
   "source": [
    "RF = RandomForestClassifier(n_estimators = 100, criterion = 'entropy', random_state = 0)\n",
    "RF.fit(X_train, y_train)\n",
    "\n",
    "y_pred_train = RF.predict(X_train)\n",
    "y_pred = RF.predict(X_val)\n",
    "\n",
    "accuracy_1s = accuracy_score(y_train[:,0], y_pred_train[:,0])\n",
    "f1_1s = f1_score(y_train[:,0], y_pred_train[:,0], average='weighted')\n",
    "print(\"Random Forest (Training): 1s prediction: acc=\", accuracy_1s, \", f1=\", f1_1s)\n",
    "\n",
    "accuracy_3s = accuracy_score(y_train[:,1], y_pred_train[:,1])\n",
    "f1_3s = f1_score(y_train[:,1], y_pred_train[:,1], average='weighted')\n",
    "print(\"Random Forest (Training): 3s prediction: acc=\", accuracy_3s, \", f1=\", f1_3s)\n",
    "\n",
    "accuracy_5s = accuracy_score(y_train[:,2], y_pred_train[:,2])\n",
    "f1_5s = f1_score(y_train[:,2], y_pred_train[:,2], average='weighted')\n",
    "print(\"Random Forest (Training): 5s prediction: acc=\", accuracy_5s, \", f1=\", f1_5s)\n",
    "\n",
    "accuracy_1s = accuracy_score(y_val[:,0], y_pred[:,0])\n",
    "f1_1s = f1_score(y_val[:,0], y_pred[:,0], average='weighted')\n",
    "print(\"Random Forest: 1s prediction: acc=\", accuracy_1s, \", f1=\", f1_1s)\n",
    "\n",
    "accuracy_3s = accuracy_score(y_val[:,1], y_pred[:,1])\n",
    "f1_3s = f1_score(y_val[:,1], y_pred[:,1], average='weighted')\n",
    "print(\"Random Forest: 3s prediction: acc=\", accuracy_3s, \", f1=\", f1_3s)\n",
    "\n",
    "accuracy_5s = accuracy_score(y_val[:,2], y_pred[:,2])\n",
    "f1_5s = f1_score(y_val[:,2], y_pred[:,2], average='weighted')\n",
    "print(\"Random Forest: 5s prediction: acc=\", accuracy_5s, \", f1=\", f1_5s)"
   ]
  },
  {
   "cell_type": "markdown",
   "metadata": {},
   "source": [
    "Run gridsearch to tune the best parameters"
   ]
  },
  {
   "cell_type": "code",
   "execution_count": 23,
   "metadata": {},
   "outputs": [],
   "source": [
    "from sklearn.model_selection import GridSearchCV"
   ]
  },
  {
   "cell_type": "code",
   "execution_count": 24,
   "metadata": {},
   "outputs": [
    {
     "name": "stdout",
     "output_type": "stream",
     "text": [
      "Best parameters set found on development set (1s):\n",
      "{'criterion': 'entropy', 'max_depth': 32, 'min_samples_split': 4, 'n_estimators': 200}\n",
      "Best parameters set found on development set (3s):\n",
      "{'criterion': 'entropy', 'max_depth': 32, 'min_samples_split': 4, 'n_estimators': 200}\n",
      "Best parameters set found on development set (5s):\n",
      "{'criterion': 'entropy', 'max_depth': 32, 'min_samples_split': 4, 'n_estimators': 200}\n"
     ]
    }
   ],
   "source": [
    "grid_values = {'n_estimators': [32, 64, 100, 200], \\\n",
    "               'max_depth': [4, 8, 16, 32], \\\n",
    "               'min_samples_split': [4, 8, 16, 32], \\\n",
    "               'criterion': ['gini','entropy']}\n",
    "grid_clf_acc = GridSearchCV(RandomForestClassifier(), param_grid = grid_values, scoring = 'f1_weighted')\n",
    "\n",
    "grid_clf_acc.fit(X_train, y_train[:,0])\n",
    "print(\"Best parameters set found on development set (1s):\")\n",
    "print(grid_clf_acc.best_params_)\n",
    "\n",
    "grid_clf_acc.fit(X_train, y_train[:,1])\n",
    "print(\"Best parameters set found on development set (3s):\")\n",
    "print(grid_clf_acc.best_params_)\n",
    "\n",
    "grid_clf_acc.fit(X_train, y_train[:,2])\n",
    "print(\"Best parameters set found on development set (5s):\")\n",
    "print(grid_clf_acc.best_params_)"
   ]
  },
  {
   "cell_type": "markdown",
   "metadata": {},
   "source": [
    "Best parameters found on the development set are all the same, and they are:\n",
    "\n",
    "criterion = entropy\n",
    "\n",
    "max_depth = 32\n",
    "\n",
    "min_samples_split = 4\n",
    "\n",
    "n_estimators = 200\n",
    "\n",
    "We will check what is the accuracy and F1 scores are right now with the best parameters selected.\n",
    "Because The max_depth, min_samples_split and n_estimators are all at the border of the given range in gridsearch, maybe a possible next step is to redo grid search with a smaller range around the best parameters."
   ]
  },
  {
   "cell_type": "code",
   "execution_count": 25,
   "metadata": {},
   "outputs": [
    {
     "name": "stdout",
     "output_type": "stream",
     "text": [
      "Random Forest (Training): 1s prediction: acc= 0.99885204466956 , f1= 0.9988513813170954\n",
      "Random Forest (Training): 3s prediction: acc= 0.9989728820727642 , f1= 0.9989728301435329\n",
      "Random Forest (Training): 5s prediction: acc= 0.9987614166171569 , f1= 0.9987614878210425\n",
      "Random Forest: 1s prediction: acc= 0.9611236973266878 , f1= 0.9611235375471996\n",
      "Random Forest: 3s prediction: acc= 0.9596737652922519 , f1= 0.9597250711517847\n",
      "Random Forest: 5s prediction: acc= 0.9601268690530131 , f1= 0.960189542488718\n"
     ]
    }
   ],
   "source": [
    "RF = RandomForestClassifier(n_estimators = 200, criterion = 'entropy', random_state = 0, max_depth = 32, min_samples_split = 4)\n",
    "RF.fit(X_train, y_train)\n",
    "\n",
    "y_pred_train = RF.predict(X_train)\n",
    "y_pred = RF.predict(X_val)\n",
    "\n",
    "accuracy_1s = accuracy_score(y_train[:,0], y_pred_train[:,0])\n",
    "f1_1s = f1_score(y_train[:,0], y_pred_train[:,0], average='weighted')\n",
    "print(\"Random Forest (Training): 1s prediction: acc=\", accuracy_1s, \", f1=\", f1_1s)\n",
    "\n",
    "accuracy_3s = accuracy_score(y_train[:,1], y_pred_train[:,1])\n",
    "f1_3s = f1_score(y_train[:,1], y_pred_train[:,1], average='weighted')\n",
    "print(\"Random Forest (Training): 3s prediction: acc=\", accuracy_3s, \", f1=\", f1_3s)\n",
    "\n",
    "accuracy_5s = accuracy_score(y_train[:,2], y_pred_train[:,2])\n",
    "f1_5s = f1_score(y_train[:,2], y_pred_train[:,2], average='weighted')\n",
    "print(\"Random Forest (Training): 5s prediction: acc=\", accuracy_5s, \", f1=\", f1_5s)\n",
    "\n",
    "accuracy_1s = accuracy_score(y_val[:,0], y_pred[:,0])\n",
    "f1_1s = f1_score(y_val[:,0], y_pred[:,0], average='weighted')\n",
    "print(\"Random Forest: 1s prediction: acc=\", accuracy_1s, \", f1=\", f1_1s)\n",
    "\n",
    "accuracy_3s = accuracy_score(y_val[:,1], y_pred[:,1])\n",
    "f1_3s = f1_score(y_val[:,1], y_pred[:,1], average='weighted')\n",
    "print(\"Random Forest: 3s prediction: acc=\", accuracy_3s, \", f1=\", f1_3s)\n",
    "\n",
    "accuracy_5s = accuracy_score(y_val[:,2], y_pred[:,2])\n",
    "f1_5s = f1_score(y_val[:,2], y_pred[:,2], average='weighted')\n",
    "print(\"Random Forest: 5s prediction: acc=\", accuracy_5s, \", f1=\", f1_5s)"
   ]
  },
  {
   "cell_type": "markdown",
   "metadata": {},
   "source": [
    "We now get the final accuracy and F1 score when run on test dataset"
   ]
  },
  {
   "cell_type": "code",
   "execution_count": 36,
   "metadata": {},
   "outputs": [
    {
     "name": "stdout",
     "output_type": "stream",
     "text": [
      "Random Forest: 1s prediction: acc= 0.9597912078949514 , f1= 0.9597409385069792\n",
      "Random Forest: 3s prediction: acc= 0.9593834108147785 , f1= 0.9594262672497392\n",
      "Random Forest: 5s prediction: acc= 0.9592202919827094 , f1= 0.9592773095644824\n"
     ]
    },
    {
     "data": {
      "text/plain": [
       "['RandomForest.pkl']"
      ]
     },
     "execution_count": 36,
     "metadata": {},
     "output_type": "execute_result"
    }
   ],
   "source": [
    "RF = RandomForestClassifier(n_estimators = 200, criterion = 'entropy', random_state = 0, max_depth = 32, min_samples_split = 4)\n",
    "RF.fit(X_train, y_train)\n",
    "\n",
    "y_pred = RF.predict(X_test)\n",
    "\n",
    "accuracy_1s = accuracy_score(y_test[:,0], y_pred[:,0])\n",
    "f1_1s = f1_score(y_test[:,0], y_pred[:,0], average='weighted')\n",
    "print(\"Random Forest: 1s prediction: acc=\", accuracy_1s, \", f1=\", f1_1s)\n",
    "\n",
    "accuracy_3s = accuracy_score(y_test[:,1], y_pred[:,1])\n",
    "f1_3s = f1_score(y_test[:,1], y_pred[:,1], average='weighted')\n",
    "print(\"Random Forest: 3s prediction: acc=\", accuracy_3s, \", f1=\", f1_3s)\n",
    "\n",
    "accuracy_5s = accuracy_score(y_test[:,2], y_pred[:,2])\n",
    "f1_5s = f1_score(y_test[:,2], y_pred[:,2], average='weighted')\n",
    "print(\"Random Forest: 5s prediction: acc=\", accuracy_5s, \", f1=\", f1_5s)\n",
    "\n",
    "# Save the final Random Forest model for future use\n",
    "joblib.dump(RF, 'RandomForest.pkl') "
   ]
  },
  {
   "cell_type": "markdown",
   "metadata": {},
   "source": [
    "### AdaBoost Classifier"
   ]
  },
  {
   "cell_type": "markdown",
   "metadata": {},
   "source": [
    "We will now try out AdaBoost Classifier and check if it will perform better than random forest.\n",
    "We will just use a default classifier and see what is the results."
   ]
  },
  {
   "cell_type": "code",
   "execution_count": 25,
   "metadata": {},
   "outputs": [],
   "source": [
    "from sklearn.ensemble import AdaBoostClassifier\n",
    "from sklearn.tree import DecisionTreeClassifier"
   ]
  },
  {
   "cell_type": "code",
   "execution_count": 29,
   "metadata": {},
   "outputs": [
    {
     "name": "stdout",
     "output_type": "stream",
     "text": [
      "AdaBoost (Training): 1s prediction: acc= 1.0 , f1= 1.0\n",
      "AdaBoost (Training): 3s prediction: acc= 1.0 , f1= 1.0\n",
      "AdaBoost (Training): 5s prediction: acc= 1.0 , f1= 1.0\n",
      "AdaBoost: 1s prediction: acc= 0.9400090620752152 , f1= 0.9400992141152046\n",
      "AdaBoost: 3s prediction: acc= 0.9374716810149524 , f1= 0.9375039403171209\n",
      "AdaBoost: 5s prediction: acc= 0.9358405074762121 , f1= 0.9358955987892826\n"
     ]
    }
   ],
   "source": [
    "DTC = DecisionTreeClassifier(random_state = 0, max_depth = None)\n",
    "ada1s = AdaBoostClassifier(base_estimator = DTC)\n",
    "ada1s.fit(X_train, y_train[:,0])\n",
    "\n",
    "ada3s = AdaBoostClassifier(base_estimator = DTC)\n",
    "ada3s.fit(X_train, y_train[:,1])\n",
    "\n",
    "ada5s = AdaBoostClassifier(base_estimator = DTC)\n",
    "ada5s.fit(X_train, y_train[:,2])\n",
    "\n",
    "y_pred_train_1s = ada1s.predict(X_train)\n",
    "y_pred_train_3s = ada3s.predict(X_train)\n",
    "y_pred_train_5s = ada5s.predict(X_train)\n",
    "\n",
    "y_pred_1s = ada1s.predict(X_val)\n",
    "y_pred_3s = ada3s.predict(X_val)\n",
    "y_pred_5s = ada5s.predict(X_val)\n",
    "\n",
    "accuracy_1s = accuracy_score(y_train[:,0], y_pred_train_1s)\n",
    "f1_1s = f1_score(y_train[:,0], y_pred_train_1s, average='weighted')\n",
    "print(\"AdaBoost (Training): 1s prediction: acc=\", accuracy_1s, \", f1=\", f1_1s)\n",
    "accuracy_3s = accuracy_score(y_train[:,1], y_pred_train_3s)\n",
    "f1_3s = f1_score(y_train[:,1], y_pred_train_3s, average='weighted')\n",
    "print(\"AdaBoost (Training): 3s prediction: acc=\", accuracy_3s, \", f1=\", f1_3s)\n",
    "accuracy_5s = accuracy_score(y_train[:,2], y_pred_train_5s)\n",
    "f1_5s = f1_score(y_train[:,2], y_pred_train_5s, average='weighted')\n",
    "print(\"AdaBoost (Training): 5s prediction: acc=\", accuracy_5s, \", f1=\", f1_5s)\n",
    "\n",
    "accuracy_1s = accuracy_score(y_val[:,0], y_pred_1s)\n",
    "f1_1s = f1_score(y_val[:,0], y_pred_1s, average='weighted')\n",
    "print(\"AdaBoost: 1s prediction: acc=\", accuracy_1s, \", f1=\", f1_1s)\n",
    "accuracy_3s = accuracy_score(y_val[:,1], y_pred_3s)\n",
    "f1_3s = f1_score(y_val[:,1], y_pred_3s, average='weighted')\n",
    "print(\"AdaBoost: 3s prediction: acc=\", accuracy_3s, \", f1=\", f1_3s)\n",
    "accuracy_5s = accuracy_score(y_val[:,2], y_pred_5s)\n",
    "f1_5s = f1_score(y_val[:,2], y_pred_5s, average='weighted')\n",
    "print(\"AdaBoost: 5s prediction: acc=\", accuracy_5s, \", f1=\", f1_5s)"
   ]
  },
  {
   "cell_type": "markdown",
   "metadata": {},
   "source": [
    "We can again use grid search to find some of the better parameters for AdaBoost"
   ]
  },
  {
   "cell_type": "code",
   "execution_count": 34,
   "metadata": {},
   "outputs": [
    {
     "name": "stdout",
     "output_type": "stream",
     "text": [
      "Best parameters set found on development set (1s):\n",
      "{'base_estimator__criterion': 'entropy', 'base_estimator__max_depth': 16, 'learning_rate': 1, 'n_estimators': 200}\n",
      "Best parameters set found on development set (3s):\n",
      "{'base_estimator__criterion': 'entropy', 'base_estimator__max_depth': 16, 'learning_rate': 1, 'n_estimators': 200}\n"
     ]
    },
    {
     "name": "stderr",
     "output_type": "stream",
     "text": [
      "C:\\ProgramData\\Anaconda3\\lib\\site-packages\\sklearn\\metrics\\classification.py:1135: UndefinedMetricWarning: F-score is ill-defined and being set to 0.0 in labels with no predicted samples.\n",
      "  'precision', 'predicted', average, warn_for)\n",
      "C:\\ProgramData\\Anaconda3\\lib\\site-packages\\sklearn\\metrics\\classification.py:1135: UndefinedMetricWarning: F-score is ill-defined and being set to 0.0 in labels with no predicted samples.\n",
      "  'precision', 'predicted', average, warn_for)\n",
      "C:\\ProgramData\\Anaconda3\\lib\\site-packages\\sklearn\\metrics\\classification.py:1135: UndefinedMetricWarning: F-score is ill-defined and being set to 0.0 in labels with no predicted samples.\n",
      "  'precision', 'predicted', average, warn_for)\n",
      "C:\\ProgramData\\Anaconda3\\lib\\site-packages\\sklearn\\metrics\\classification.py:1135: UndefinedMetricWarning: F-score is ill-defined and being set to 0.0 in labels with no predicted samples.\n",
      "  'precision', 'predicted', average, warn_for)\n",
      "C:\\ProgramData\\Anaconda3\\lib\\site-packages\\sklearn\\metrics\\classification.py:1135: UndefinedMetricWarning: F-score is ill-defined and being set to 0.0 in labels with no predicted samples.\n",
      "  'precision', 'predicted', average, warn_for)\n",
      "C:\\ProgramData\\Anaconda3\\lib\\site-packages\\sklearn\\metrics\\classification.py:1135: UndefinedMetricWarning: F-score is ill-defined and being set to 0.0 in labels with no predicted samples.\n",
      "  'precision', 'predicted', average, warn_for)\n"
     ]
    },
    {
     "name": "stdout",
     "output_type": "stream",
     "text": [
      "Best parameters set found on development set (5s):\n",
      "{'base_estimator__criterion': 'entropy', 'base_estimator__max_depth': 16, 'learning_rate': 1, 'n_estimators': 100}\n"
     ]
    }
   ],
   "source": [
    "grid_values = {\"base_estimator__criterion\" : [\"entropy\"],\n",
    "               \"base_estimator__max_depth\" : [None, 16, 32, 64],\n",
    "               \"n_estimators\" : [50, 80, 100, 200],\n",
    "               \"learning_rate\" : [0.01, 0.1, 1, 10]}\n",
    "DTC = DecisionTreeClassifier(random_state = 0)\n",
    "grid_clf_acc = GridSearchCV(AdaBoostClassifier(base_estimator = DTC), param_grid = grid_values, scoring = 'f1_weighted')\n",
    "\n",
    "grid_clf_acc.fit(X_train, y_train[:,0])\n",
    "print(\"Best parameters set found on development set (1s):\")\n",
    "print(grid_clf_acc.best_params_)\n",
    "\n",
    "grid_clf_acc.fit(X_train, y_train[:,1])\n",
    "print(\"Best parameters set found on development set (3s):\")\n",
    "print(grid_clf_acc.best_params_)\n",
    "\n",
    "grid_clf_acc.fit(X_train, y_train[:,2])\n",
    "print(\"Best parameters set found on development set (5s):\")\n",
    "print(grid_clf_acc.best_params_)"
   ]
  },
  {
   "cell_type": "markdown",
   "metadata": {},
   "source": [
    "The best parameters are found to be:\n",
    "\n",
    "max_depth for Decision Tree base estimator = 16\n",
    "\n",
    "learning_rate for AdaBoost = 1\n",
    "\n",
    "n_estimator for AdaBoost = 200 (100 for 5s)\n",
    "\n",
    "We will use this to run the validation dataset"
   ]
  },
  {
   "cell_type": "code",
   "execution_count": 37,
   "metadata": {},
   "outputs": [
    {
     "name": "stdout",
     "output_type": "stream",
     "text": [
      "AdaBoost (Training): 1s prediction: acc= 1.0 , f1= 1.0\n",
      "AdaBoost (Training): 3s prediction: acc= 1.0 , f1= 1.0\n",
      "AdaBoost (Training): 5s prediction: acc= 1.0 , f1= 1.0\n",
      "AdaBoost: 1s prediction: acc= 0.9612143180788401 , f1= 0.9611577367870978\n",
      "AdaBoost: 3s prediction: acc= 0.9580425917535116 , f1= 0.9579910165822051\n",
      "AdaBoost: 5s prediction: acc= 0.9603081105573176 , f1= 0.9603269399533818\n"
     ]
    }
   ],
   "source": [
    "DTC = DecisionTreeClassifier(random_state = 0, max_depth = 16)\n",
    "ada1s = AdaBoostClassifier(base_estimator = DTC, n_estimators = 200, learning_rate = 1)\n",
    "ada1s.fit(X_train, y_train[:,0])\n",
    "\n",
    "ada3s = AdaBoostClassifier(base_estimator = DTC, n_estimators = 200, learning_rate = 1)\n",
    "ada3s.fit(X_train, y_train[:,1])\n",
    "\n",
    "ada5s = AdaBoostClassifier(base_estimator = DTC, n_estimators = 100, learning_rate = 0.1)\n",
    "ada5s.fit(X_train, y_train[:,2])\n",
    "\n",
    "y_pred_train_1s = ada1s.predict(X_train)\n",
    "y_pred_train_3s = ada3s.predict(X_train)\n",
    "y_pred_train_5s = ada5s.predict(X_train)\n",
    "\n",
    "y_pred_1s = ada1s.predict(X_val)\n",
    "y_pred_3s = ada3s.predict(X_val)\n",
    "y_pred_5s = ada5s.predict(X_val)\n",
    "\n",
    "accuracy_1s = accuracy_score(y_train[:,0], y_pred_train_1s)\n",
    "f1_1s = f1_score(y_train[:,0], y_pred_train_1s, average='weighted')\n",
    "print(\"AdaBoost (Training): 1s prediction: acc=\", accuracy_1s, \", f1=\", f1_1s)\n",
    "accuracy_3s = accuracy_score(y_train[:,1], y_pred_train_3s)\n",
    "f1_3s = f1_score(y_train[:,1], y_pred_train_3s, average='weighted')\n",
    "print(\"AdaBoost (Training): 3s prediction: acc=\", accuracy_3s, \", f1=\", f1_3s)\n",
    "accuracy_5s = accuracy_score(y_train[:,2], y_pred_train_5s)\n",
    "f1_5s = f1_score(y_train[:,2], y_pred_train_5s, average='weighted')\n",
    "print(\"AdaBoost (Training): 5s prediction: acc=\", accuracy_5s, \", f1=\", f1_5s)\n",
    "\n",
    "accuracy_1s = accuracy_score(y_val[:,0], y_pred_1s)\n",
    "f1_1s = f1_score(y_val[:,0], y_pred_1s, average='weighted')\n",
    "print(\"AdaBoost: 1s prediction: acc=\", accuracy_1s, \", f1=\", f1_1s)\n",
    "accuracy_3s = accuracy_score(y_val[:,1], y_pred_3s)\n",
    "f1_3s = f1_score(y_val[:,1], y_pred_3s, average='weighted')\n",
    "print(\"AdaBoost: 3s prediction: acc=\", accuracy_3s, \", f1=\", f1_3s)\n",
    "accuracy_5s = accuracy_score(y_val[:,2], y_pred_5s)\n",
    "f1_5s = f1_score(y_val[:,2], y_pred_5s, average='weighted')\n",
    "print(\"AdaBoost: 5s prediction: acc=\", accuracy_5s, \", f1=\", f1_5s)"
   ]
  },
  {
   "cell_type": "markdown",
   "metadata": {},
   "source": [
    "We now get the final accuracy and F1 score when run on test dataset"
   ]
  },
  {
   "cell_type": "code",
   "execution_count": 38,
   "metadata": {},
   "outputs": [
    {
     "name": "stdout",
     "output_type": "stream",
     "text": [
      "AdaBoost: 1s prediction: acc= 0.9602805643911589 , f1= 0.9601736841518849\n",
      "AdaBoost: 3s prediction: acc= 0.9588124949025365 , f1= 0.9587736327371083\n",
      "AdaBoost: 5s prediction: acc= 0.9588940543185711 , f1= 0.9589203232781686\n"
     ]
    },
    {
     "data": {
      "text/plain": [
       "['AdaBoost5s.pkl']"
      ]
     },
     "execution_count": 38,
     "metadata": {},
     "output_type": "execute_result"
    }
   ],
   "source": [
    "DTC = DecisionTreeClassifier(random_state = 0, max_depth = 16)\n",
    "ada1s = AdaBoostClassifier(base_estimator = DTC, n_estimators = 200, learning_rate = 1)\n",
    "ada1s.fit(X_train, y_train[:,0])\n",
    "\n",
    "ada3s = AdaBoostClassifier(base_estimator = DTC, n_estimators = 200, learning_rate = 1)\n",
    "ada3s.fit(X_train, y_train[:,1])\n",
    "\n",
    "ada5s = AdaBoostClassifier(base_estimator = DTC, n_estimators = 100, learning_rate = 0.1)\n",
    "ada5s.fit(X_train, y_train[:,2])\n",
    "\n",
    "y_pred_1s = ada1s.predict(X_test)\n",
    "y_pred_3s = ada3s.predict(X_test)\n",
    "y_pred_5s = ada5s.predict(X_test)\n",
    "\n",
    "accuracy_1s = accuracy_score(y_test[:,0], y_pred_1s)\n",
    "f1_1s = f1_score(y_test[:,0], y_pred_1s, average='weighted')\n",
    "print(\"AdaBoost: 1s prediction: acc=\", accuracy_1s, \", f1=\", f1_1s)\n",
    "accuracy_3s = accuracy_score(y_test[:,1], y_pred_3s)\n",
    "f1_3s = f1_score(y_test[:,1], y_pred_3s, average='weighted')\n",
    "print(\"AdaBoost: 3s prediction: acc=\", accuracy_3s, \", f1=\", f1_3s)\n",
    "accuracy_5s = accuracy_score(y_test[:,2], y_pred_5s)\n",
    "f1_5s = f1_score(y_test[:,2], y_pred_5s, average='weighted')\n",
    "print(\"AdaBoost: 5s prediction: acc=\", accuracy_5s, \", f1=\", f1_5s)\n",
    "\n",
    "joblib.dump(ada1s, 'AdaBoost1s.pkl') \n",
    "joblib.dump(ada3s, 'AdaBoost3s.pkl')\n",
    "joblib.dump(ada5s, 'AdaBoost5s.pkl')"
   ]
  },
  {
   "cell_type": "markdown",
   "metadata": {},
   "source": [
    "### Deep Learning - Artificial Neural Network "
   ]
  },
  {
   "cell_type": "markdown",
   "metadata": {},
   "source": [
    "We will try out if general artificial neural network will get a good performance from this. We will use Keras for this."
   ]
  },
  {
   "cell_type": "code",
   "execution_count": 26,
   "metadata": {},
   "outputs": [],
   "source": [
    "from keras.models import Sequential\n",
    "from keras.layers import Dense\n",
    "from keras.wrappers.scikit_learn import KerasClassifier\n",
    "from keras.utils import np_utils"
   ]
  },
  {
   "cell_type": "code",
   "execution_count": 13,
   "metadata": {},
   "outputs": [
    {
     "name": "stderr",
     "output_type": "stream",
     "text": [
      "C:\\ProgramData\\Anaconda3\\lib\\site-packages\\ipykernel_launcher.py:9: UserWarning: Update your `Dense` call to the Keras 2 API: `Dense(activation=\"relu\", input_dim=11, units=6, kernel_initializer=\"uniform\")`\n",
      "  if __name__ == '__main__':\n",
      "C:\\ProgramData\\Anaconda3\\lib\\site-packages\\ipykernel_launcher.py:10: UserWarning: Update your `Dense` call to the Keras 2 API: `Dense(activation=\"relu\", units=6, kernel_initializer=\"uniform\")`\n",
      "  # Remove the CWD from sys.path while we load stuff.\n",
      "C:\\ProgramData\\Anaconda3\\lib\\site-packages\\ipykernel_launcher.py:11: UserWarning: Update your `Dense` call to the Keras 2 API: `Dense(activation=\"sigmoid\", units=3, kernel_initializer=\"uniform\")`\n",
      "  # This is added back by InteractiveShellApp.init_path()\n",
      "C:\\ProgramData\\Anaconda3\\lib\\site-packages\\ipykernel_launcher.py:22: UserWarning: The `nb_epoch` argument in `fit` has been renamed `epochs`.\n"
     ]
    },
    {
     "name": "stdout",
     "output_type": "stream",
     "text": [
      "Epoch 1/100\n",
      "99307/99307 [==============================] - 20s 204us/step - loss: 0.5658 - acc: 0.7707\n",
      "Epoch 2/100\n",
      "99307/99307 [==============================] - 18s 180us/step - loss: 0.4543 - acc: 0.7822\n",
      "Epoch 3/100\n",
      "99307/99307 [==============================] - 18s 179us/step - loss: 0.4495 - acc: 0.7879\n",
      "Epoch 4/100\n",
      "99307/99307 [==============================] - 18s 181us/step - loss: 0.4478 - acc: 0.7910\n",
      "Epoch 5/100\n",
      "99307/99307 [==============================] - 18s 181us/step - loss: 0.4468 - acc: 0.7916\n",
      "Epoch 6/100\n",
      "99307/99307 [==============================] - 18s 180us/step - loss: 0.4463 - acc: 0.7921\n",
      "Epoch 7/100\n",
      "99307/99307 [==============================] - 18s 181us/step - loss: 0.4457 - acc: 0.7939\n",
      "Epoch 8/100\n",
      "99307/99307 [==============================] - 18s 180us/step - loss: 0.4451 - acc: 0.7948\n",
      "Epoch 9/100\n",
      "99307/99307 [==============================] - 18s 182us/step - loss: 0.4447 - acc: 0.7948\n",
      "Epoch 10/100\n",
      "99307/99307 [==============================] - 18s 181us/step - loss: 0.4441 - acc: 0.7964\n",
      "Epoch 11/100\n",
      "99307/99307 [==============================] - 18s 181us/step - loss: 0.4444 - acc: 0.7938\n",
      "Epoch 12/100\n",
      "99307/99307 [==============================] - 18s 183us/step - loss: 0.4439 - acc: 0.7958\n",
      "Epoch 13/100\n",
      "99307/99307 [==============================] - 19s 188us/step - loss: 0.4440 - acc: 0.7956\n",
      "Epoch 14/100\n",
      "99307/99307 [==============================] - 18s 181us/step - loss: 0.4439 - acc: 0.7951\n",
      "Epoch 15/100\n",
      "99307/99307 [==============================] - 18s 181us/step - loss: 0.4439 - acc: 0.7952\n",
      "Epoch 16/100\n",
      "99307/99307 [==============================] - 18s 179us/step - loss: 0.4437 - acc: 0.7947\n",
      "Epoch 17/100\n",
      "99307/99307 [==============================] - 18s 179us/step - loss: 0.4435 - acc: 0.7947\n",
      "Epoch 18/100\n",
      "99307/99307 [==============================] - 18s 179us/step - loss: 0.4434 - acc: 0.7961\n",
      "Epoch 19/100\n",
      "99307/99307 [==============================] - 18s 180us/step - loss: 0.4436 - acc: 0.7960\n",
      "Epoch 20/100\n",
      "99307/99307 [==============================] - 18s 180us/step - loss: 0.4435 - acc: 0.7953\n",
      "Epoch 21/100\n",
      "99307/99307 [==============================] - 18s 185us/step - loss: 0.4436 - acc: 0.7953\n",
      "Epoch 22/100\n",
      "99307/99307 [==============================] - 22s 225us/step - loss: 0.4432 - acc: 0.7955\n",
      "Epoch 23/100\n",
      "99307/99307 [==============================] - 18s 181us/step - loss: 0.4433 - acc: 0.7963\n",
      "Epoch 24/100\n",
      "99307/99307 [==============================] - 18s 180us/step - loss: 0.4431 - acc: 0.7957\n",
      "Epoch 25/100\n",
      "99307/99307 [==============================] - 18s 180us/step - loss: 0.4432 - acc: 0.7956\n",
      "Epoch 26/100\n",
      "99307/99307 [==============================] - 18s 181us/step - loss: 0.4433 - acc: 0.7950\n",
      "Epoch 27/100\n",
      "99307/99307 [==============================] - 18s 181us/step - loss: 0.4432 - acc: 0.7955\n",
      "Epoch 28/100\n",
      "99307/99307 [==============================] - 18s 179us/step - loss: 0.4432 - acc: 0.7951\n",
      "Epoch 29/100\n",
      "99307/99307 [==============================] - 18s 180us/step - loss: 0.4431 - acc: 0.7955\n",
      "Epoch 30/100\n",
      "99307/99307 [==============================] - 18s 180us/step - loss: 0.4430 - acc: 0.7952\n",
      "Epoch 31/100\n",
      "99307/99307 [==============================] - 18s 180us/step - loss: 0.4429 - acc: 0.7966\n",
      "Epoch 32/100\n",
      "99307/99307 [==============================] - 18s 181us/step - loss: 0.4428 - acc: 0.7967\n",
      "Epoch 33/100\n",
      "99307/99307 [==============================] - 18s 180us/step - loss: 0.4432 - acc: 0.7962\n",
      "Epoch 34/100\n",
      "99307/99307 [==============================] - 18s 179us/step - loss: 0.4429 - acc: 0.7959\n",
      "Epoch 35/100\n",
      "99307/99307 [==============================] - 18s 180us/step - loss: 0.4427 - acc: 0.7956\n",
      "Epoch 36/100\n",
      "99307/99307 [==============================] - 18s 180us/step - loss: 0.4427 - acc: 0.7954\n",
      "Epoch 37/100\n",
      "99307/99307 [==============================] - 18s 180us/step - loss: 0.4428 - acc: 0.7960\n",
      "Epoch 38/100\n",
      "99307/99307 [==============================] - 18s 180us/step - loss: 0.4429 - acc: 0.7952\n",
      "Epoch 39/100\n",
      "99307/99307 [==============================] - 18s 184us/step - loss: 0.4426 - acc: 0.7963\n",
      "Epoch 40/100\n",
      "99307/99307 [==============================] - 18s 184us/step - loss: 0.4427 - acc: 0.7959\n",
      "Epoch 41/100\n",
      "99307/99307 [==============================] - 18s 186us/step - loss: 0.4429 - acc: 0.7956\n",
      "Epoch 42/100\n",
      "99307/99307 [==============================] - 18s 186us/step - loss: 0.4428 - acc: 0.7947\n",
      "Epoch 43/100\n",
      "99307/99307 [==============================] - 18s 186us/step - loss: 0.4427 - acc: 0.7965\n",
      "Epoch 44/100\n",
      "99307/99307 [==============================] - 18s 181us/step - loss: 0.4427 - acc: 0.7955\n",
      "Epoch 45/100\n",
      "99307/99307 [==============================] - 18s 181us/step - loss: 0.4426 - acc: 0.7956\n",
      "Epoch 46/100\n",
      "99307/99307 [==============================] - 18s 181us/step - loss: 0.4428 - acc: 0.7961\n",
      "Epoch 47/100\n",
      "99307/99307 [==============================] - 18s 182us/step - loss: 0.4427 - acc: 0.7957\n",
      "Epoch 48/100\n",
      "99307/99307 [==============================] - 18s 180us/step - loss: 0.4429 - acc: 0.7957\n",
      "Epoch 49/100\n",
      "99307/99307 [==============================] - 18s 181us/step - loss: 0.4424 - acc: 0.7962\n",
      "Epoch 50/100\n",
      "99307/99307 [==============================] - 18s 181us/step - loss: 0.4427 - acc: 0.7956\n",
      "Epoch 51/100\n",
      "99307/99307 [==============================] - 18s 180us/step - loss: 0.4426 - acc: 0.7955\n",
      "Epoch 52/100\n",
      "99307/99307 [==============================] - 18s 181us/step - loss: 0.4427 - acc: 0.7961\n",
      "Epoch 53/100\n",
      "99307/99307 [==============================] - 18s 182us/step - loss: 0.4426 - acc: 0.7959\n",
      "Epoch 54/100\n",
      "99307/99307 [==============================] - 18s 180us/step - loss: 0.4427 - acc: 0.7958\n",
      "Epoch 55/100\n",
      "99307/99307 [==============================] - 18s 182us/step - loss: 0.4426 - acc: 0.7958\n",
      "Epoch 56/100\n",
      "99307/99307 [==============================] - 18s 182us/step - loss: 0.4426 - acc: 0.7960\n",
      "Epoch 57/100\n",
      "99307/99307 [==============================] - 18s 181us/step - loss: 0.4426 - acc: 0.7962\n",
      "Epoch 58/100\n",
      "99307/99307 [==============================] - 18s 180us/step - loss: 0.4425 - acc: 0.7959\n",
      "Epoch 59/100\n",
      "99307/99307 [==============================] - 18s 181us/step - loss: 0.4424 - acc: 0.7958\n",
      "Epoch 60/100\n",
      "99307/99307 [==============================] - 18s 181us/step - loss: 0.4426 - acc: 0.7961\n",
      "Epoch 61/100\n",
      "99307/99307 [==============================] - 18s 180us/step - loss: 0.4425 - acc: 0.7951\n",
      "Epoch 62/100\n",
      "99307/99307 [==============================] - 18s 181us/step - loss: 0.4424 - acc: 0.7958\n",
      "Epoch 63/100\n",
      "99307/99307 [==============================] - 18s 180us/step - loss: 0.4425 - acc: 0.7954\n",
      "Epoch 64/100\n",
      "99307/99307 [==============================] - 18s 180us/step - loss: 0.4425 - acc: 0.7962\n",
      "Epoch 65/100\n",
      "99307/99307 [==============================] - 18s 180us/step - loss: 0.4425 - acc: 0.7958\n",
      "Epoch 66/100\n",
      "99307/99307 [==============================] - 18s 181us/step - loss: 0.4424 - acc: 0.7960\n",
      "Epoch 67/100\n",
      "99307/99307 [==============================] - 18s 183us/step - loss: 0.4425 - acc: 0.7966\n",
      "Epoch 68/100\n",
      "99307/99307 [==============================] - 18s 181us/step - loss: 0.4425 - acc: 0.7955\n",
      "Epoch 69/100\n",
      "99307/99307 [==============================] - 18s 181us/step - loss: 0.4425 - acc: 0.7962\n",
      "Epoch 70/100\n",
      "99307/99307 [==============================] - 18s 180us/step - loss: 0.4424 - acc: 0.7961\n",
      "Epoch 71/100\n",
      "99307/99307 [==============================] - 18s 180us/step - loss: 0.4426 - acc: 0.7959\n",
      "Epoch 72/100\n",
      "99307/99307 [==============================] - 18s 181us/step - loss: 0.4422 - acc: 0.7958\n",
      "Epoch 73/100\n",
      "99307/99307 [==============================] - 18s 181us/step - loss: 0.4424 - acc: 0.7961\n",
      "Epoch 74/100\n",
      "99307/99307 [==============================] - 18s 184us/step - loss: 0.4419 - acc: 0.7968\n",
      "Epoch 75/100\n",
      "99307/99307 [==============================] - 18s 180us/step - loss: 0.4421 - acc: 0.7958\n",
      "Epoch 76/100\n",
      "99307/99307 [==============================] - 18s 181us/step - loss: 0.4422 - acc: 0.7962\n",
      "Epoch 77/100\n",
      "99307/99307 [==============================] - 18s 181us/step - loss: 0.4419 - acc: 0.7968\n",
      "Epoch 78/100\n",
      "99307/99307 [==============================] - 18s 182us/step - loss: 0.4415 - acc: 0.7963\n",
      "Epoch 79/100\n",
      "99307/99307 [==============================] - 18s 178us/step - loss: 0.4417 - acc: 0.7970\n",
      "Epoch 80/100\n",
      "99307/99307 [==============================] - 18s 178us/step - loss: 0.4416 - acc: 0.7963\n",
      "Epoch 81/100\n",
      "99307/99307 [==============================] - 18s 177us/step - loss: 0.4416 - acc: 0.7970\n",
      "Epoch 82/100\n",
      "99307/99307 [==============================] - 18s 177us/step - loss: 0.4415 - acc: 0.7972\n",
      "Epoch 83/100\n",
      "99307/99307 [==============================] - 18s 176us/step - loss: 0.4412 - acc: 0.7964\n",
      "Epoch 84/100\n",
      "99307/99307 [==============================] - 17s 176us/step - loss: 0.4404 - acc: 0.7974\n",
      "Epoch 85/100\n",
      "99307/99307 [==============================] - 17s 176us/step - loss: 0.4399 - acc: 0.7978\n",
      "Epoch 86/100\n",
      "99307/99307 [==============================] - 18s 177us/step - loss: 0.4393 - acc: 0.7983\n",
      "Epoch 87/100\n",
      "99307/99307 [==============================] - 18s 177us/step - loss: 0.4389 - acc: 0.7986\n",
      "Epoch 88/100\n",
      "99307/99307 [==============================] - 18s 177us/step - loss: 0.4386 - acc: 0.7989\n",
      "Epoch 89/100\n",
      "99307/99307 [==============================] - 18s 177us/step - loss: 0.4375 - acc: 0.8000\n",
      "Epoch 90/100\n",
      "99307/99307 [==============================] - 18s 177us/step - loss: 0.4361 - acc: 0.8007\n",
      "Epoch 91/100\n",
      "99307/99307 [==============================] - 18s 177us/step - loss: 0.4353 - acc: 0.8016\n",
      "Epoch 92/100\n",
      "99307/99307 [==============================] - 18s 178us/step - loss: 0.4345 - acc: 0.8004\n",
      "Epoch 93/100\n",
      "99307/99307 [==============================] - 18s 178us/step - loss: 0.4336 - acc: 0.8011\n",
      "Epoch 94/100\n",
      "99307/99307 [==============================] - 18s 178us/step - loss: 0.4328 - acc: 0.8009\n",
      "Epoch 95/100\n",
      "99307/99307 [==============================] - 19s 188us/step - loss: 0.4325 - acc: 0.8010\n",
      "Epoch 96/100\n",
      "99307/99307 [==============================] - 18s 178us/step - loss: 0.4321 - acc: 0.8008\n",
      "Epoch 97/100\n",
      "99307/99307 [==============================] - 18s 177us/step - loss: 0.4319 - acc: 0.8013\n",
      "Epoch 98/100\n",
      "99307/99307 [==============================] - 18s 177us/step - loss: 0.4318 - acc: 0.8017\n",
      "Epoch 99/100\n",
      "99307/99307 [==============================] - 18s 177us/step - loss: 0.4320 - acc: 0.8013\n",
      "Epoch 100/100\n",
      "99307/99307 [==============================] - 18s 179us/step - loss: 0.4317 - acc: 0.8010\n"
     ]
    },
    {
     "name": "stderr",
     "output_type": "stream",
     "text": [
      "C:\\ProgramData\\Anaconda3\\lib\\site-packages\\ipykernel_launcher.py:9: UserWarning: Update your `Dense` call to the Keras 2 API: `Dense(activation=\"relu\", input_dim=11, units=6, kernel_initializer=\"uniform\")`\n",
      "  if __name__ == '__main__':\n",
      "C:\\ProgramData\\Anaconda3\\lib\\site-packages\\ipykernel_launcher.py:10: UserWarning: Update your `Dense` call to the Keras 2 API: `Dense(activation=\"relu\", units=6, kernel_initializer=\"uniform\")`\n",
      "  # Remove the CWD from sys.path while we load stuff.\n",
      "C:\\ProgramData\\Anaconda3\\lib\\site-packages\\ipykernel_launcher.py:11: UserWarning: Update your `Dense` call to the Keras 2 API: `Dense(activation=\"sigmoid\", units=3, kernel_initializer=\"uniform\")`\n",
      "  # This is added back by InteractiveShellApp.init_path()\n",
      "C:\\ProgramData\\Anaconda3\\lib\\site-packages\\ipykernel_launcher.py:24: UserWarning: The `nb_epoch` argument in `fit` has been renamed `epochs`.\n"
     ]
    },
    {
     "name": "stdout",
     "output_type": "stream",
     "text": [
      "Epoch 1/100\n",
      "99307/99307 [==============================] - 18s 179us/step - loss: 0.7342 - acc: 0.6885\n",
      "Epoch 2/100\n",
      "99307/99307 [==============================] - 18s 178us/step - loss: 0.5738 - acc: 0.7252\n",
      "Epoch 3/100\n",
      "99307/99307 [==============================] - 18s 178us/step - loss: 0.5581 - acc: 0.7441\n",
      "Epoch 4/100\n",
      "99307/99307 [==============================] - 18s 178us/step - loss: 0.5500 - acc: 0.7532\n",
      "Epoch 5/100\n",
      "99307/99307 [==============================] - 18s 177us/step - loss: 0.5464 - acc: 0.7541\n",
      "Epoch 6/100\n",
      "99307/99307 [==============================] - 18s 178us/step - loss: 0.5443 - acc: 0.7553\n",
      "Epoch 7/100\n",
      "99307/99307 [==============================] - 18s 178us/step - loss: 0.5430 - acc: 0.7563\n",
      "Epoch 8/100\n",
      "99307/99307 [==============================] - 18s 178us/step - loss: 0.5421 - acc: 0.7562\n",
      "Epoch 9/100\n",
      "99307/99307 [==============================] - 18s 177us/step - loss: 0.5413 - acc: 0.7578\n",
      "Epoch 10/100\n",
      "99307/99307 [==============================] - 18s 178us/step - loss: 0.5407 - acc: 0.7586\n",
      "Epoch 11/100\n",
      "99307/99307 [==============================] - 18s 178us/step - loss: 0.5404 - acc: 0.7594\n",
      "Epoch 12/100\n",
      "99307/99307 [==============================] - 18s 178us/step - loss: 0.5398 - acc: 0.7594\n",
      "Epoch 13/100\n",
      "99307/99307 [==============================] - 18s 178us/step - loss: 0.5391 - acc: 0.7599\n",
      "Epoch 14/100\n",
      "99307/99307 [==============================] - 18s 180us/step - loss: 0.5394 - acc: 0.7605\n",
      "Epoch 15/100\n",
      "99307/99307 [==============================] - 18s 181us/step - loss: 0.5389 - acc: 0.7612\n",
      "Epoch 16/100\n",
      "99307/99307 [==============================] - 18s 181us/step - loss: 0.5387 - acc: 0.7606\n",
      "Epoch 17/100\n",
      "99307/99307 [==============================] - 18s 180us/step - loss: 0.5386 - acc: 0.7610\n",
      "Epoch 18/100\n",
      "99307/99307 [==============================] - 18s 180us/step - loss: 0.5384 - acc: 0.7613\n",
      "Epoch 19/100\n",
      "99307/99307 [==============================] - 18s 180us/step - loss: 0.5382 - acc: 0.7616\n",
      "Epoch 20/100\n",
      "99307/99307 [==============================] - 18s 180us/step - loss: 0.5380 - acc: 0.7622\n",
      "Epoch 21/100\n",
      "99307/99307 [==============================] - 18s 182us/step - loss: 0.5380 - acc: 0.7625\n",
      "Epoch 22/100\n",
      "99307/99307 [==============================] - 18s 180us/step - loss: 0.5378 - acc: 0.7621\n",
      "Epoch 23/100\n",
      "99307/99307 [==============================] - 18s 180us/step - loss: 0.5375 - acc: 0.7636\n",
      "Epoch 24/100\n",
      "99307/99307 [==============================] - 18s 180us/step - loss: 0.5373 - acc: 0.7635\n",
      "Epoch 25/100\n",
      "99307/99307 [==============================] - 18s 180us/step - loss: 0.5369 - acc: 0.7635\n",
      "Epoch 26/100\n",
      "99307/99307 [==============================] - 18s 181us/step - loss: 0.5368 - acc: 0.7636\n",
      "Epoch 27/100\n",
      "99307/99307 [==============================] - 18s 182us/step - loss: 0.5366 - acc: 0.7635\n",
      "Epoch 28/100\n",
      "99307/99307 [==============================] - 18s 180us/step - loss: 0.5362 - acc: 0.7642\n",
      "Epoch 29/100\n",
      "99307/99307 [==============================] - 18s 180us/step - loss: 0.5362 - acc: 0.7646\n",
      "Epoch 30/100\n",
      "99307/99307 [==============================] - 18s 180us/step - loss: 0.5359 - acc: 0.7655\n",
      "Epoch 31/100\n",
      "99307/99307 [==============================] - 18s 180us/step - loss: 0.5355 - acc: 0.7657\n",
      "Epoch 32/100\n",
      "99307/99307 [==============================] - 18s 180us/step - loss: 0.5356 - acc: 0.7650\n",
      "Epoch 33/100\n",
      "99307/99307 [==============================] - 18s 180us/step - loss: 0.5353 - acc: 0.7652\n",
      "Epoch 34/100\n",
      "99307/99307 [==============================] - 18s 181us/step - loss: 0.5350 - acc: 0.7655\n",
      "Epoch 35/100\n",
      "99307/99307 [==============================] - 18s 180us/step - loss: 0.5347 - acc: 0.7657\n",
      "Epoch 36/100\n",
      "99307/99307 [==============================] - 18s 180us/step - loss: 0.5345 - acc: 0.7644\n",
      "Epoch 37/100\n",
      "99307/99307 [==============================] - 18s 181us/step - loss: 0.5343 - acc: 0.7654\n",
      "Epoch 38/100\n",
      "99307/99307 [==============================] - 18s 180us/step - loss: 0.5339 - acc: 0.7666\n",
      "Epoch 39/100\n",
      "99307/99307 [==============================] - 18s 180us/step - loss: 0.5335 - acc: 0.7666\n",
      "Epoch 40/100\n",
      "99307/99307 [==============================] - 18s 181us/step - loss: 0.5332 - acc: 0.7665\n",
      "Epoch 41/100\n",
      "99307/99307 [==============================] - 18s 182us/step - loss: 0.5328 - acc: 0.7671\n",
      "Epoch 42/100\n",
      "99307/99307 [==============================] - 18s 180us/step - loss: 0.5324 - acc: 0.7675\n",
      "Epoch 43/100\n",
      "99307/99307 [==============================] - 18s 181us/step - loss: 0.5322 - acc: 0.7672\n",
      "Epoch 44/100\n",
      "99307/99307 [==============================] - 18s 180us/step - loss: 0.5320 - acc: 0.7680\n",
      "Epoch 45/100\n",
      "99307/99307 [==============================] - 18s 180us/step - loss: 0.5319 - acc: 0.7680\n",
      "Epoch 46/100\n",
      "99307/99307 [==============================] - 18s 180us/step - loss: 0.5318 - acc: 0.7671\n",
      "Epoch 47/100\n",
      "99307/99307 [==============================] - 18s 182us/step - loss: 0.5313 - acc: 0.7670\n",
      "Epoch 48/100\n",
      "99307/99307 [==============================] - 18s 180us/step - loss: 0.5313 - acc: 0.7674\n",
      "Epoch 49/100\n",
      "99307/99307 [==============================] - 18s 181us/step - loss: 0.5313 - acc: 0.7679\n",
      "Epoch 50/100\n",
      "99307/99307 [==============================] - 18s 181us/step - loss: 0.5309 - acc: 0.7674\n",
      "Epoch 51/100\n",
      "99307/99307 [==============================] - 18s 181us/step - loss: 0.5310 - acc: 0.7665\n",
      "Epoch 52/100\n",
      "99307/99307 [==============================] - 18s 180us/step - loss: 0.5307 - acc: 0.7684\n",
      "Epoch 53/100\n",
      "99307/99307 [==============================] - 18s 181us/step - loss: 0.5305 - acc: 0.7677\n",
      "Epoch 54/100\n",
      "99307/99307 [==============================] - 18s 182us/step - loss: 0.5307 - acc: 0.7675\n",
      "Epoch 55/100\n",
      "99307/99307 [==============================] - 18s 180us/step - loss: 0.5305 - acc: 0.7671\n",
      "Epoch 56/100\n",
      "99307/99307 [==============================] - 18s 180us/step - loss: 0.5307 - acc: 0.7675\n",
      "Epoch 57/100\n",
      "99307/99307 [==============================] - 18s 181us/step - loss: 0.5304 - acc: 0.7674\n",
      "Epoch 58/100\n",
      "99307/99307 [==============================] - 18s 181us/step - loss: 0.5303 - acc: 0.7675\n",
      "Epoch 59/100\n",
      "99307/99307 [==============================] - 18s 181us/step - loss: 0.5301 - acc: 0.7673\n",
      "Epoch 60/100\n",
      "99307/99307 [==============================] - 18s 181us/step - loss: 0.5302 - acc: 0.7675\n",
      "Epoch 61/100\n",
      "99307/99307 [==============================] - 18s 181us/step - loss: 0.5300 - acc: 0.7674\n",
      "Epoch 62/100\n",
      "99307/99307 [==============================] - 18s 181us/step - loss: 0.5298 - acc: 0.7671\n",
      "Epoch 63/100\n",
      "99307/99307 [==============================] - 18s 181us/step - loss: 0.5300 - acc: 0.7672\n",
      "Epoch 64/100\n",
      "99307/99307 [==============================] - 18s 182us/step - loss: 0.5299 - acc: 0.7675\n",
      "Epoch 65/100\n",
      "99307/99307 [==============================] - 18s 181us/step - loss: 0.5296 - acc: 0.7677\n",
      "Epoch 66/100\n",
      "99307/99307 [==============================] - 18s 179us/step - loss: 0.5296 - acc: 0.7677\n",
      "Epoch 67/100\n",
      "99307/99307 [==============================] - 18s 180us/step - loss: 0.5298 - acc: 0.7675\n",
      "Epoch 68/100\n",
      "99307/99307 [==============================] - 18s 179us/step - loss: 0.5296 - acc: 0.7668\n",
      "Epoch 69/100\n",
      "99307/99307 [==============================] - 18s 178us/step - loss: 0.5294 - acc: 0.7678\n",
      "Epoch 70/100\n",
      "99307/99307 [==============================] - 18s 179us/step - loss: 0.5293 - acc: 0.7677\n",
      "Epoch 71/100\n",
      "99307/99307 [==============================] - 18s 179us/step - loss: 0.5293 - acc: 0.7662\n",
      "Epoch 72/100\n",
      "99307/99307 [==============================] - 18s 179us/step - loss: 0.5296 - acc: 0.7667\n",
      "Epoch 73/100\n",
      "99307/99307 [==============================] - 18s 178us/step - loss: 0.5294 - acc: 0.7669\n",
      "Epoch 74/100\n",
      "99307/99307 [==============================] - 18s 181us/step - loss: 0.5292 - acc: 0.7671\n",
      "Epoch 75/100\n",
      "99307/99307 [==============================] - 18s 179us/step - loss: 0.5293 - acc: 0.7675\n",
      "Epoch 76/100\n",
      "99307/99307 [==============================] - 18s 179us/step - loss: 0.5291 - acc: 0.7665\n",
      "Epoch 77/100\n",
      "99307/99307 [==============================] - 18s 180us/step - loss: 0.5292 - acc: 0.7675\n",
      "Epoch 78/100\n",
      "99307/99307 [==============================] - 19s 194us/step - loss: 0.5290 - acc: 0.7671\n",
      "Epoch 79/100\n",
      "99307/99307 [==============================] - 18s 179us/step - loss: 0.5288 - acc: 0.7670\n",
      "Epoch 80/100\n",
      "99307/99307 [==============================] - 18s 178us/step - loss: 0.5290 - acc: 0.7668\n",
      "Epoch 81/100\n",
      "99307/99307 [==============================] - 18s 179us/step - loss: 0.5287 - acc: 0.7675\n",
      "Epoch 82/100\n",
      "99307/99307 [==============================] - 18s 178us/step - loss: 0.5285 - acc: 0.7679\n",
      "Epoch 83/100\n",
      "99307/99307 [==============================] - 18s 177us/step - loss: 0.5284 - acc: 0.7670\n",
      "Epoch 84/100\n",
      "99307/99307 [==============================] - 18s 178us/step - loss: 0.5286 - acc: 0.7678\n",
      "Epoch 85/100\n",
      "99307/99307 [==============================] - 18s 179us/step - loss: 0.5287 - acc: 0.7668\n",
      "Epoch 86/100\n",
      "99307/99307 [==============================] - 18s 180us/step - loss: 0.5285 - acc: 0.7671\n",
      "Epoch 87/100\n",
      "99307/99307 [==============================] - 18s 183us/step - loss: 0.5284 - acc: 0.7666\n",
      "Epoch 88/100\n",
      "99307/99307 [==============================] - 18s 178us/step - loss: 0.5283 - acc: 0.7673\n",
      "Epoch 89/100\n",
      "99307/99307 [==============================] - 18s 178us/step - loss: 0.5284 - acc: 0.7676\n",
      "Epoch 90/100\n",
      "99307/99307 [==============================] - 18s 179us/step - loss: 0.5283 - acc: 0.7674\n",
      "Epoch 91/100\n",
      "99307/99307 [==============================] - 18s 179us/step - loss: 0.5281 - acc: 0.7671\n",
      "Epoch 92/100\n",
      "99307/99307 [==============================] - ETA: 0s - loss: 0.5283 - acc: 0.768 - 18s 179us/step - loss: 0.5284 - acc: 0.7681\n",
      "Epoch 93/100\n",
      "99307/99307 [==============================] - 18s 179us/step - loss: 0.5282 - acc: 0.7675\n",
      "Epoch 94/100\n",
      "99307/99307 [==============================] - 18s 180us/step - loss: 0.5284 - acc: 0.7675\n",
      "Epoch 95/100\n",
      "99307/99307 [==============================] - 18s 179us/step - loss: 0.5282 - acc: 0.7676\n",
      "Epoch 96/100\n",
      "99307/99307 [==============================] - 18s 180us/step - loss: 0.5282 - acc: 0.7675\n",
      "Epoch 97/100\n",
      "99307/99307 [==============================] - 18s 179us/step - loss: 0.5280 - acc: 0.7683\n",
      "Epoch 98/100\n",
      "99307/99307 [==============================] - 18s 179us/step - loss: 0.5281 - acc: 0.7678\n",
      "Epoch 99/100\n",
      "99307/99307 [==============================] - 18s 179us/step - loss: 0.5280 - acc: 0.7677\n",
      "Epoch 100/100\n",
      "99307/99307 [==============================] - 18s 179us/step - loss: 0.5281 - acc: 0.7678\n"
     ]
    },
    {
     "name": "stderr",
     "output_type": "stream",
     "text": [
      "C:\\ProgramData\\Anaconda3\\lib\\site-packages\\ipykernel_launcher.py:9: UserWarning: Update your `Dense` call to the Keras 2 API: `Dense(activation=\"relu\", input_dim=11, units=6, kernel_initializer=\"uniform\")`\n",
      "  if __name__ == '__main__':\n",
      "C:\\ProgramData\\Anaconda3\\lib\\site-packages\\ipykernel_launcher.py:10: UserWarning: Update your `Dense` call to the Keras 2 API: `Dense(activation=\"relu\", units=6, kernel_initializer=\"uniform\")`\n",
      "  # Remove the CWD from sys.path while we load stuff.\n",
      "C:\\ProgramData\\Anaconda3\\lib\\site-packages\\ipykernel_launcher.py:11: UserWarning: Update your `Dense` call to the Keras 2 API: `Dense(activation=\"sigmoid\", units=3, kernel_initializer=\"uniform\")`\n",
      "  # This is added back by InteractiveShellApp.init_path()\n",
      "C:\\ProgramData\\Anaconda3\\lib\\site-packages\\ipykernel_launcher.py:26: UserWarning: The `nb_epoch` argument in `fit` has been renamed `epochs`.\n"
     ]
    },
    {
     "name": "stdout",
     "output_type": "stream",
     "text": [
      "Epoch 1/100\n",
      "99307/99307 [==============================] - 18s 182us/step - loss: 0.7020 - acc: 0.6792\n",
      "Epoch 2/100\n",
      "99307/99307 [==============================] - 18s 178us/step - loss: 0.6298 - acc: 0.7139\n",
      "Epoch 3/100\n",
      "99307/99307 [==============================] - 18s 178us/step - loss: 0.6271 - acc: 0.7157\n",
      "Epoch 4/100\n",
      "99307/99307 [==============================] - 18s 179us/step - loss: 0.6234 - acc: 0.7187\n",
      "Epoch 5/100\n",
      "99307/99307 [==============================] - 18s 179us/step - loss: 0.6184 - acc: 0.7217\n",
      "Epoch 6/100\n",
      "99307/99307 [==============================] - 18s 179us/step - loss: 0.6154 - acc: 0.7252\n",
      "Epoch 7/100\n",
      "99307/99307 [==============================] - 18s 178us/step - loss: 0.6132 - acc: 0.7262\n",
      "Epoch 8/100\n",
      "99307/99307 [==============================] - 18s 180us/step - loss: 0.6120 - acc: 0.7278\n",
      "Epoch 9/100\n",
      "99307/99307 [==============================] - 18s 179us/step - loss: 0.6108 - acc: 0.7275\n",
      "Epoch 10/100\n",
      "99307/99307 [==============================] - 18s 179us/step - loss: 0.6102 - acc: 0.7267\n",
      "Epoch 11/100\n",
      "99307/99307 [==============================] - 18s 179us/step - loss: 0.6101 - acc: 0.7272\n",
      "Epoch 12/100\n",
      "99307/99307 [==============================] - 18s 180us/step - loss: 0.6099 - acc: 0.7270\n",
      "Epoch 13/100\n",
      "99307/99307 [==============================] - 18s 179us/step - loss: 0.6094 - acc: 0.7276\n",
      "Epoch 14/100\n",
      "99307/99307 [==============================] - 18s 185us/step - loss: 0.6092 - acc: 0.7278\n",
      "Epoch 15/100\n",
      "99307/99307 [==============================] - 18s 181us/step - loss: 0.6087 - acc: 0.7284\n",
      "Epoch 16/100\n",
      "99307/99307 [==============================] - 19s 192us/step - loss: 0.6083 - acc: 0.7285\n",
      "Epoch 17/100\n",
      "99307/99307 [==============================] - 18s 182us/step - loss: 0.6079 - acc: 0.7280\n",
      "Epoch 18/100\n",
      "99307/99307 [==============================] - 18s 181us/step - loss: 0.6073 - acc: 0.7285\n",
      "Epoch 19/100\n",
      "99307/99307 [==============================] - 18s 181us/step - loss: 0.6068 - acc: 0.7295\n",
      "Epoch 20/100\n",
      "99307/99307 [==============================] - 18s 181us/step - loss: 0.6062 - acc: 0.7290\n",
      "Epoch 21/100\n",
      "99307/99307 [==============================] - 18s 182us/step - loss: 0.6059 - acc: 0.7290\n",
      "Epoch 22/100\n",
      "99307/99307 [==============================] - 18s 182us/step - loss: 0.6051 - acc: 0.7301\n",
      "Epoch 23/100\n",
      "99307/99307 [==============================] - 18s 182us/step - loss: 0.6048 - acc: 0.7298\n",
      "Epoch 24/100\n",
      "99307/99307 [==============================] - 18s 181us/step - loss: 0.6041 - acc: 0.7302\n",
      "Epoch 25/100\n",
      "99307/99307 [==============================] - 18s 181us/step - loss: 0.6037 - acc: 0.7309\n",
      "Epoch 26/100\n",
      "99307/99307 [==============================] - 18s 181us/step - loss: 0.6032 - acc: 0.7298\n",
      "Epoch 27/100\n",
      "99307/99307 [==============================] - 18s 181us/step - loss: 0.6029 - acc: 0.7303\n",
      "Epoch 28/100\n",
      "99307/99307 [==============================] - 19s 187us/step - loss: 0.6029 - acc: 0.7302\n",
      "Epoch 29/100\n",
      "99307/99307 [==============================] - 18s 183us/step - loss: 0.6026 - acc: 0.7303\n",
      "Epoch 30/100\n",
      "99307/99307 [==============================] - 18s 185us/step - loss: 0.6023 - acc: 0.7299\n",
      "Epoch 31/100\n",
      "99307/99307 [==============================] - 18s 180us/step - loss: 0.6023 - acc: 0.7306\n",
      "Epoch 32/100\n",
      "99307/99307 [==============================] - 18s 180us/step - loss: 0.6020 - acc: 0.7302\n",
      "Epoch 33/100\n",
      "99307/99307 [==============================] - 18s 181us/step - loss: 0.6020 - acc: 0.7302\n",
      "Epoch 34/100\n",
      "99307/99307 [==============================] - 19s 191us/step - loss: 0.6018 - acc: 0.7299\n",
      "Epoch 35/100\n",
      "99307/99307 [==============================] - 22s 223us/step - loss: 0.6018 - acc: 0.7295\n",
      "Epoch 36/100\n",
      "99307/99307 [==============================] - 19s 189us/step - loss: 0.6017 - acc: 0.7298\n",
      "Epoch 37/100\n",
      "99307/99307 [==============================] - 19s 190us/step - loss: 0.6014 - acc: 0.7307\n",
      "Epoch 38/100\n",
      "99307/99307 [==============================] - 19s 190us/step - loss: 0.6015 - acc: 0.7294\n",
      "Epoch 39/100\n",
      "99307/99307 [==============================] - 19s 187us/step - loss: 0.6016 - acc: 0.7288\n",
      "Epoch 40/100\n",
      "99307/99307 [==============================] - 18s 182us/step - loss: 0.6014 - acc: 0.7295\n",
      "Epoch 41/100\n",
      "99307/99307 [==============================] - 18s 184us/step - loss: 0.6013 - acc: 0.7286\n",
      "Epoch 42/100\n",
      "99307/99307 [==============================] - 18s 183us/step - loss: 0.6012 - acc: 0.7285\n",
      "Epoch 43/100\n",
      "99307/99307 [==============================] - 19s 191us/step - loss: 0.6012 - acc: 0.7275\n",
      "Epoch 44/100\n",
      "99307/99307 [==============================] - 18s 184us/step - loss: 0.6011 - acc: 0.7285\n",
      "Epoch 45/100\n",
      "99307/99307 [==============================] - 18s 183us/step - loss: 0.6011 - acc: 0.7278\n",
      "Epoch 46/100\n",
      "99307/99307 [==============================] - 18s 182us/step - loss: 0.6010 - acc: 0.7284\n",
      "Epoch 47/100\n",
      "99307/99307 [==============================] - 19s 194us/step - loss: 0.6010 - acc: 0.7282\n",
      "Epoch 48/100\n",
      "99307/99307 [==============================] - 19s 192us/step - loss: 0.6008 - acc: 0.7282\n",
      "Epoch 49/100\n",
      "99307/99307 [==============================] - 19s 192us/step - loss: 0.6010 - acc: 0.7273\n",
      "Epoch 50/100\n",
      "99307/99307 [==============================] - 19s 188us/step - loss: 0.6010 - acc: 0.7278\n",
      "Epoch 51/100\n",
      "99307/99307 [==============================] - 18s 184us/step - loss: 0.6008 - acc: 0.7286\n",
      "Epoch 52/100\n",
      "99307/99307 [==============================] - 18s 184us/step - loss: 0.6006 - acc: 0.7283\n",
      "Epoch 53/100\n",
      "99307/99307 [==============================] - 18s 185us/step - loss: 0.6008 - acc: 0.7283\n",
      "Epoch 54/100\n",
      "99307/99307 [==============================] - 19s 191us/step - loss: 0.6010 - acc: 0.7281\n",
      "Epoch 55/100\n",
      "99307/99307 [==============================] - 18s 186us/step - loss: 0.6008 - acc: 0.7286\n",
      "Epoch 56/100\n",
      "99307/99307 [==============================] - 18s 184us/step - loss: 0.6007 - acc: 0.7289\n",
      "Epoch 57/100\n",
      "99307/99307 [==============================] - 18s 185us/step - loss: 0.6006 - acc: 0.7281\n",
      "Epoch 58/100\n",
      "99307/99307 [==============================] - 18s 184us/step - loss: 0.6008 - acc: 0.7285\n",
      "Epoch 59/100\n",
      "99307/99307 [==============================] - 18s 184us/step - loss: 0.6008 - acc: 0.7281\n",
      "Epoch 60/100\n",
      "99307/99307 [==============================] - 19s 187us/step - loss: 0.6008 - acc: 0.7276\n",
      "Epoch 61/100\n",
      "99307/99307 [==============================] - 18s 184us/step - loss: 0.6006 - acc: 0.7283\n",
      "Epoch 62/100\n",
      "99307/99307 [==============================] - 18s 184us/step - loss: 0.6009 - acc: 0.7281\n",
      "Epoch 63/100\n",
      "99307/99307 [==============================] - 18s 184us/step - loss: 0.6009 - acc: 0.7291\n",
      "Epoch 64/100\n",
      "99307/99307 [==============================] - 18s 185us/step - loss: 0.6009 - acc: 0.7286\n",
      "Epoch 65/100\n",
      "99307/99307 [==============================] - 18s 186us/step - loss: 0.6007 - acc: 0.7294\n",
      "Epoch 66/100\n",
      "99307/99307 [==============================] - 18s 185us/step - loss: 0.6007 - acc: 0.7286\n",
      "Epoch 67/100\n",
      "99307/99307 [==============================] - 19s 188us/step - loss: 0.6007 - acc: 0.7291\n",
      "Epoch 68/100\n",
      "99307/99307 [==============================] - 19s 188us/step - loss: 0.6006 - acc: 0.7299\n",
      "Epoch 69/100\n",
      "99307/99307 [==============================] - 18s 185us/step - loss: 0.6005 - acc: 0.7297\n",
      "Epoch 70/100\n",
      "99307/99307 [==============================] - 18s 183us/step - loss: 0.6008 - acc: 0.7288\n",
      "Epoch 71/100\n",
      "99307/99307 [==============================] - 18s 182us/step - loss: 0.6008 - acc: 0.7297\n",
      "Epoch 72/100\n",
      "99307/99307 [==============================] - 18s 182us/step - loss: 0.6005 - acc: 0.7296\n",
      "Epoch 73/100\n",
      "99307/99307 [==============================] - 18s 183us/step - loss: 0.6005 - acc: 0.7293\n",
      "Epoch 74/100\n",
      "99307/99307 [==============================] - 18s 183us/step - loss: 0.6006 - acc: 0.7289\n",
      "Epoch 75/100\n",
      "99307/99307 [==============================] - 18s 185us/step - loss: 0.6006 - acc: 0.7291\n",
      "Epoch 76/100\n",
      "99307/99307 [==============================] - 18s 183us/step - loss: 0.6004 - acc: 0.7299\n",
      "Epoch 77/100\n",
      "99307/99307 [==============================] - 19s 187us/step - loss: 0.6004 - acc: 0.7296\n",
      "Epoch 78/100\n",
      "99307/99307 [==============================] - 19s 188us/step - loss: 0.6004 - acc: 0.7290\n",
      "Epoch 79/100\n",
      "99307/99307 [==============================] - 19s 189us/step - loss: 0.6004 - acc: 0.7298\n",
      "Epoch 80/100\n",
      "99307/99307 [==============================] - 18s 183us/step - loss: 0.6005 - acc: 0.7294\n",
      "Epoch 81/100\n",
      "99307/99307 [==============================] - 18s 180us/step - loss: 0.6002 - acc: 0.7298\n",
      "Epoch 82/100\n",
      "99307/99307 [==============================] - 18s 181us/step - loss: 0.6005 - acc: 0.7295\n",
      "Epoch 83/100\n",
      "99307/99307 [==============================] - 18s 181us/step - loss: 0.6004 - acc: 0.7289\n",
      "Epoch 84/100\n",
      "99307/99307 [==============================] - 18s 185us/step - loss: 0.6003 - acc: 0.7305\n",
      "Epoch 85/100\n",
      "99307/99307 [==============================] - 18s 181us/step - loss: 0.6003 - acc: 0.7293\n",
      "Epoch 86/100\n",
      "99307/99307 [==============================] - 18s 181us/step - loss: 0.6003 - acc: 0.7298\n",
      "Epoch 87/100\n",
      "99307/99307 [==============================] - 18s 181us/step - loss: 0.6005 - acc: 0.7294\n",
      "Epoch 88/100\n",
      "99307/99307 [==============================] - 18s 181us/step - loss: 0.6006 - acc: 0.7292\n",
      "Epoch 89/100\n",
      "99307/99307 [==============================] - 18s 181us/step - loss: 0.6004 - acc: 0.7300\n",
      "Epoch 90/100\n",
      "99307/99307 [==============================] - 22s 222us/step - loss: 0.6003 - acc: 0.7298\n",
      "Epoch 91/100\n",
      "99307/99307 [==============================] - 19s 193us/step - loss: 0.6003 - acc: 0.7304\n",
      "Epoch 92/100\n",
      "99307/99307 [==============================] - 18s 186us/step - loss: 0.6001 - acc: 0.7300\n",
      "Epoch 93/100\n",
      "99307/99307 [==============================] - 19s 188us/step - loss: 0.6002 - acc: 0.7306\n",
      "Epoch 94/100\n",
      "99307/99307 [==============================] - 19s 194us/step - loss: 0.5999 - acc: 0.7302\n",
      "Epoch 95/100\n",
      "99307/99307 [==============================] - 18s 186us/step - loss: 0.6002 - acc: 0.7296\n",
      "Epoch 96/100\n",
      "99307/99307 [==============================] - 19s 187us/step - loss: 0.6001 - acc: 0.7295\n",
      "Epoch 97/100\n",
      "99307/99307 [==============================] - 18s 185us/step - loss: 0.6002 - acc: 0.7301\n",
      "Epoch 98/100\n",
      "99307/99307 [==============================] - 18s 186us/step - loss: 0.6000 - acc: 0.7298\n",
      "Epoch 99/100\n",
      "99307/99307 [==============================] - 19s 186us/step - loss: 0.6001 - acc: 0.7299\n",
      "Epoch 100/100\n",
      "99307/99307 [==============================] - 18s 186us/step - loss: 0.6001 - acc: 0.7307\n"
     ]
    }
   ],
   "source": [
    "# Define a standard generic baseline model\n",
    "def baseline_model():\n",
    "    model = Sequential()\n",
    "    model.add(Dense(output_dim = 6, init = 'uniform', activation = 'relu', input_dim = 11))\n",
    "    model.add(Dense(output_dim = 6, init = 'uniform', activation = 'relu'))\n",
    "    model.add(Dense(output_dim = 3, init = 'uniform', activation = 'sigmoid'))\n",
    "    model.compile(optimizer = 'adam', loss = 'categorical_crossentropy', metrics = ['accuracy'])\n",
    "    return model\n",
    "\n",
    "# Encode the labels to one-hot\n",
    "encoded_y_train_1s = np_utils.to_categorical(y_train[:,0])\n",
    "encoded_y_train_3s = np_utils.to_categorical(y_train[:,1])\n",
    "encoded_y_train_5s = np_utils.to_categorical(y_train[:,2])\n",
    "\n",
    "# Fitting 3 neural networks for 1s, 3s and 5s separately using baseline model\n",
    "ann1s = baseline_model()\n",
    "ann1s.fit(X_train, encoded_y_train_1s, batch_size = 16, nb_epoch = 100)\n",
    "ann3s = baseline_model()\n",
    "ann3s.fit(X_train, encoded_y_train_3s, batch_size = 16, nb_epoch = 100)\n",
    "ann5s = baseline_model()\n",
    "ann5s.fit(X_train, encoded_y_train_5s, batch_size = 16, nb_epoch = 100)\n",
    "\n",
    "# Predicting training dataset, used to compare with validation dataset and see if we have any overfitting\n",
    "y_pred_proba_1s_train = ann1s.predict(X_train)\n",
    "y_pred_proba_3s_train = ann3s.predict(X_train)\n",
    "y_pred_proba_5s_train = ann5s.predict(X_train)\n",
    "# Get the highest probability option and assign it as prediction\n",
    "y_pred_1s_train = np.argmax(y_pred_proba_1s_train, axis=1)\n",
    "y_pred_3s_train = np.argmax(y_pred_proba_3s_train, axis=1)\n",
    "y_pred_5s_train = np.argmax(y_pred_proba_5s_train, axis=1)\n",
    "\n",
    "# Predicting validation dataset\n",
    "y_pred_proba_1s = ann1s.predict(X_val)\n",
    "y_pred_proba_3s = ann3s.predict(X_val)\n",
    "y_pred_proba_5s = ann5s.predict(X_val)\n",
    "# Get the highest probability option and assign it as prediction\n",
    "y_pred_1s = np.argmax(y_pred_proba_1s, axis=1)\n",
    "y_pred_3s = np.argmax(y_pred_proba_3s, axis=1)\n",
    "y_pred_5s = np.argmax(y_pred_proba_5s, axis=1)"
   ]
  },
  {
   "cell_type": "code",
   "execution_count": 15,
   "metadata": {},
   "outputs": [
    {
     "name": "stdout",
     "output_type": "stream",
     "text": [
      "ANN: 1s prediction (Train): acc= 0.8018870774467056 , f1= 0.7878893736108984\n",
      "ANN: 3s prediction (Train): acc= 0.7693314670667727 , f1= 0.7638264355946998\n",
      "ANN: 5s prediction (Train): acc= 0.730431893018619 , f1= 0.7286338246397075\n",
      "ANN: 1s prediction: acc= 0.801087449025827 , f1= 0.7879467745666318\n",
      "ANN: 3s prediction: acc= 0.7676483914816493 , f1= 0.7624096416272147\n",
      "ANN: 5s prediction: acc= 0.7291345718169461 , f1= 0.7277655475440511\n"
     ]
    }
   ],
   "source": [
    "accuracy_1s = accuracy_score(y_train[:,0], y_pred_1s_train)\n",
    "f1_1s = f1_score(y_train[:,0], y_pred_1s_train, average='weighted')\n",
    "print(\"ANN: 1s prediction (Train): acc=\", accuracy_1s, \", f1=\", f1_1s)\n",
    "accuracy_3s = accuracy_score(y_train[:,1], y_pred_3s_train)\n",
    "f1_3s = f1_score(y_train[:,1], y_pred_3s_train, average='weighted')\n",
    "print(\"ANN: 3s prediction (Train): acc=\", accuracy_3s, \", f1=\", f1_3s)\n",
    "accuracy_5s = accuracy_score(y_train[:,2], y_pred_5s_train)\n",
    "f1_5s = f1_score(y_train[:,2], y_pred_5s_train, average='weighted')\n",
    "print(\"ANN: 5s prediction (Train): acc=\", accuracy_5s, \", f1=\", f1_5s)\n",
    "\n",
    "accuracy_1s = accuracy_score(y_val[:,0], y_pred_1s)\n",
    "f1_1s = f1_score(y_val[:,0], y_pred_1s, average='weighted')\n",
    "print(\"ANN: 1s prediction: acc=\", accuracy_1s, \", f1=\", f1_1s)\n",
    "accuracy_3s = accuracy_score(y_val[:,1], y_pred_3s)\n",
    "f1_3s = f1_score(y_val[:,1], y_pred_3s, average='weighted')\n",
    "print(\"ANN: 3s prediction: acc=\", accuracy_3s, \", f1=\", f1_3s)\n",
    "accuracy_5s = accuracy_score(y_val[:,2], y_pred_5s)\n",
    "f1_5s = f1_score(y_val[:,2], y_pred_5s, average='weighted')\n",
    "print(\"ANN: 5s prediction: acc=\", accuracy_5s, \", f1=\", f1_5s)"
   ]
  },
  {
   "cell_type": "markdown",
   "metadata": {},
   "source": [
    "The results are not as good as the Tree-Based Models above. However, this could be tuned to get better results."
   ]
  },
  {
   "cell_type": "code",
   "execution_count": 17,
   "metadata": {},
   "outputs": [],
   "source": [
    "# Save the model\n",
    "ann1s.save(\"ANN_1s.h5\") \n",
    "ann3s.save(\"ANN_3s.h5\") \n",
    "ann5s.save(\"ANN_5s.h5\") "
   ]
  },
  {
   "cell_type": "markdown",
   "metadata": {},
   "source": [
    "We now get the final accuracy and F1 score when run on test dataset"
   ]
  },
  {
   "cell_type": "code",
   "execution_count": 21,
   "metadata": {},
   "outputs": [
    {
     "name": "stdout",
     "output_type": "stream",
     "text": [
      "ANN: 1s prediction: acc= 0.7996900742190686 , f1= 0.7863799440362639\n",
      "ANN: 3s prediction: acc= 0.7616833863469538 , f1= 0.7563752038197715\n",
      "ANN: 5s prediction: acc= 0.7288149416850175 , f1= 0.7270925713495136\n"
     ]
    }
   ],
   "source": [
    "# Predicting on test dataset\n",
    "y_pred_proba_1s = ann1s.predict(X_test)\n",
    "y_pred_proba_3s = ann3s.predict(X_test)\n",
    "y_pred_proba_5s = ann5s.predict(X_test)\n",
    "y_pred_1s = np.argmax(y_pred_proba_1s, axis=1)\n",
    "y_pred_3s = np.argmax(y_pred_proba_3s, axis=1)\n",
    "y_pred_5s = np.argmax(y_pred_proba_5s, axis=1)\n",
    "\n",
    "accuracy_1s = accuracy_score(y_test[:,0], y_pred_1s)\n",
    "f1_1s = f1_score(y_test[:,0], y_pred_1s, average='weighted')\n",
    "print(\"ANN: 1s prediction: acc=\", accuracy_1s, \", f1=\", f1_1s)\n",
    "accuracy_3s = accuracy_score(y_test[:,1], y_pred_3s)\n",
    "f1_3s = f1_score(y_test[:,1], y_pred_3s, average='weighted')\n",
    "print(\"ANN: 3s prediction: acc=\", accuracy_3s, \", f1=\", f1_3s)\n",
    "accuracy_5s = accuracy_score(y_test[:,2], y_pred_5s)\n",
    "f1_5s = f1_score(y_test[:,2], y_pred_5s, average='weighted')\n",
    "print(\"ANN: 5s prediction: acc=\", accuracy_5s, \", f1=\", f1_5s)"
   ]
  },
  {
   "cell_type": "markdown",
   "metadata": {},
   "source": [
    "## Conclusion "
   ]
  },
  {
   "cell_type": "markdown",
   "metadata": {},
   "source": [
    "Overall, so far from the few models tested, the preliminary conclusion shows that Tree-Based models (Random Forest and AdaBoost) perform the best with this data. They are able to achieve approximately 95.9% accuracy with their predictions. However, there are still a lot of tuning that could be done and other models may perform even better when tuned properly. Also, there are a lot of other potential models that could work even better and was not tested, such as XGBoost, K Nearest Neighbours, Kernel SVM, etc...\n",
    "\n",
    "1 initial idea for this data is to use a LSTM based model, where we could potentially capture the temporal relationship between the data well. But they were not implemented due to reasons below:\n",
    "1. There is irregular time intervals between data, and it makes implementation of LSTM based neural network difficult\n",
    "2. The features for each data has already some depiction of the temporal relationship (eg: sum_trade_1s, bid_advance_time, ask_advance_time, last_trade_time could already capture the relationship between current data and past data), so maybe it was not necessary to use a LSTM model for it\n",
    "\n",
    "Another item of interest is whether or not to include the normalized timestamps into part of the training features. As this data provided for training is just between an approximate 6 hours window, the timestamps may be introducing a bias/skewed perspective of only this time window into the model. This may have an adverse effect in general when the model is used in other time window in the future. However, for now I have included it in as I realized removing it may cause some drops in accuracy."
   ]
  }
 ],
 "metadata": {
  "kernelspec": {
   "display_name": "Python 3",
   "language": "python",
   "name": "python3"
  },
  "language_info": {
   "codemirror_mode": {
    "name": "ipython",
    "version": 3
   },
   "file_extension": ".py",
   "mimetype": "text/x-python",
   "name": "python",
   "nbconvert_exporter": "python",
   "pygments_lexer": "ipython3",
   "version": "3.6.5"
  }
 },
 "nbformat": 4,
 "nbformat_minor": 2
}
